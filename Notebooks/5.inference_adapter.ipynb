{
 "cells": [
  {
   "cell_type": "code",
   "execution_count": 1,
   "metadata": {},
   "outputs": [],
   "source": [
    "ckpt_path = \"logs/1730961830/weights/epoch10_loss1.7540_metric0.3584.pt\""
   ]
  },
  {
   "cell_type": "code",
   "execution_count": null,
   "metadata": {},
   "outputs": [],
   "source": [
    "for i in range(8, 12):\n",
    "    novel_model = AdapterSegGPT(base_model)\n",
    "    ckpt = T.load(osp.join(args.ckpt_path, f'{i}_test.pt'), map_location='cpu')\n",
    "    novel_model.image_tensor.data = ckpt['model_state_dict']['image_tensor']\n",
    "    novel_model.mask_tensor.data = ckpt['model_state_dict']['mask_tensor']\n",
    "    print(f'Adapter for class {i} loaded')\n",
    "\n",
    "    novel_model = novel_model.to(args.device)\n",
    "    novel_model.eval()\n",
    "\n",
    "    print(f'Running inference for novel class {i}')\n",
    "    for file in tqdm(os.listdir(args.dataset_dir)):\n",
    "        outdir = osp.join(args.outdir, f'novel_{i}')\n",
    "        NovelInference.inference_image_with_crop(novel_model, args.device, os.path.join(args.dataset_dir, file), i, outdir=outdir, split=split_config[i])\n",
    "        tgt_path = os.path.join(outdir, 'color', file.replace('.tif', '.png'))\n",
    "        lbl_path = os.path.join(outdir, 'label', file.replace('.tif', '.png'))\n",
    "        if split_config[i] == 2:\n",
    "            NovelInference.inference_stitch(novel_model, 'cuda', os.path.join(args.dataset_dir, file), i, tgt_path, lbl_path, outdir=outdir, split=2, width=4)"
   ]
  }
 ],
 "metadata": {
  "kernelspec": {
   "display_name": "fewshotseg3",
   "language": "python",
   "name": "python3"
  },
  "language_info": {
   "codemirror_mode": {
    "name": "ipython",
    "version": 3
   },
   "file_extension": ".py",
   "mimetype": "text/x-python",
   "name": "python",
   "nbconvert_exporter": "python",
   "pygments_lexer": "ipython3",
   "version": "3.9.12"
  }
 },
 "nbformat": 4,
 "nbformat_minor": 2
}
