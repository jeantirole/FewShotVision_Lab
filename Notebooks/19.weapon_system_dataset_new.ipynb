{
 "cells": [
  {
   "cell_type": "markdown",
   "metadata": {},
   "source": [
    "# Preprocessing-labels"
   ]
  },
  {
   "cell_type": "code",
   "execution_count": 1,
   "metadata": {},
   "outputs": [
    {
     "data": {
      "text/plain": [
       "\"\\n전처리 1 : category 0 없애기\\n전처리 2 : data['images']경로에 파일이름 수정해주기 \\n\""
      ]
     },
     "execution_count": 1,
     "metadata": {},
     "output_type": "execute_result"
    }
   ],
   "source": [
    "'''\n",
    "전처리 1 : category 0 없애기\n",
    "전처리 2 : data['images']경로에 파일이름 수정해주기 \n",
    "'''"
   ]
  },
  {
   "cell_type": "code",
   "execution_count": 2,
   "metadata": {},
   "outputs": [],
   "source": [
    "import os \n",
    "import PIL\n",
    "import matplotlib.pyplot as plt\n",
    "import matplotlib.patches as patches\n",
    "import numpy as np \n",
    "import json\n",
    "from glob import glob"
   ]
  },
  {
   "cell_type": "code",
   "execution_count": 27,
   "metadata": {},
   "outputs": [],
   "source": [
    "folder = \"/disk3/eric/dataset/VISION_SOFS/WEAPON_4/val\"\n",
    "anno_path = glob(os.path.join(folder, \"*.json\"))[0]"
   ]
  },
  {
   "cell_type": "code",
   "execution_count": 28,
   "metadata": {},
   "outputs": [
    {
     "name": "stdout",
     "output_type": "stream",
     "text": [
      "[{'id': 0, 'license': 1, 'file_name': 'M5Sandstorm__part_7.png', 'height': 432, 'width': 748, 'date_captured': '2024-11-20T10:38:39+00:00'}, {'id': 1, 'license': 1, 'file_name': 'Zamak__part_23.png', 'height': 432, 'width': 748, 'date_captured': '2024-11-20T10:38:39+00:00'}, {'id': 2, 'license': 1, 'file_name': 'M2A1Slammer2__part_12.png', 'height': 432, 'width': 748, 'date_captured': '2024-11-20T10:38:39+00:00'}, {'id': 3, 'license': 1, 'file_name': 'Zamak__part_12.png', 'height': 432, 'width': 748, 'date_captured': '2024-11-20T10:38:39+00:00'}, {'id': 4, 'license': 1, 'file_name': 'T140Angara__part_24.png', 'height': 432, 'width': 748, 'date_captured': '2024-11-20T10:38:39+00:00'}, {'id': 5, 'license': 1, 'file_name': 'T140Angara__part_18.png', 'height': 432, 'width': 748, 'date_captured': '2024-11-20T10:38:39+00:00'}, {'id': 6, 'license': 1, 'file_name': 'Zamak__part_1.png', 'height': 432, 'width': 748, 'date_captured': '2024-11-20T10:38:39+00:00'}, {'id': 7, 'license': 1, 'file_name': 'Zamak__part_3.png', 'height': 432, 'width': 748, 'date_captured': '2024-11-20T10:38:39+00:00'}, {'id': 8, 'license': 1, 'file_name': 'M5Sandstorm__part_12.png', 'height': 432, 'width': 748, 'date_captured': '2024-11-20T10:38:39+00:00'}, {'id': 9, 'license': 1, 'file_name': 'M5Sandstorm__part_9.png', 'height': 432, 'width': 748, 'date_captured': '2024-11-20T10:38:39+00:00'}, {'id': 10, 'license': 1, 'file_name': 'M2A1Slammer2__part_5.png', 'height': 432, 'width': 748, 'date_captured': '2024-11-20T10:38:39+00:00'}, {'id': 11, 'license': 1, 'file_name': 'Zamak__part_11.png', 'height': 432, 'width': 748, 'date_captured': '2024-11-20T10:38:39+00:00'}]\n"
     ]
    },
    {
     "data": {
      "text/plain": [
       "'defect category table :'"
      ]
     },
     "metadata": {},
     "output_type": "display_data"
    },
    {
     "data": {
      "text/plain": [
       "[{'id': 0, 'name': 'M2A1Slammer', 'supercategory': 'none'},\n",
       " {'id': 1, 'name': 'M2A1Slammer', 'supercategory': 'M2A1Slammer'},\n",
       " {'id': 2, 'name': 'M5SandstormMLRS', 'supercategory': 'M2A1Slammer'},\n",
       " {'id': 3, 'name': 'T140Angara', 'supercategory': 'M2A1Slammer'},\n",
       " {'id': 4, 'name': 'ZamakMRL', 'supercategory': 'M2A1Slammer'}]"
      ]
     },
     "metadata": {},
     "output_type": "display_data"
    }
   ],
   "source": [
    "target_img_id = 0 \n",
    "mask_on = False\n",
    "bbox_on = True\n",
    "create_mask = True\n",
    "\n",
    "#-- anno\n",
    "with open(anno_path, 'r') as f:\n",
    "    data = json.load(f)\n",
    "file_name = [ i['file_name'] for i in data['images'] if i ['id'] == target_img_id][0]\n",
    "\n",
    "print(data['images'])\n",
    "\n",
    "display(\"defect category table :\", data['categories'])"
   ]
  },
  {
   "cell_type": "code",
   "execution_count": 29,
   "metadata": {},
   "outputs": [
    {
     "data": {
      "text/plain": [
       "dict_keys(['info', 'licenses', 'categories', 'images', 'annotations'])"
      ]
     },
     "execution_count": 29,
     "metadata": {},
     "output_type": "execute_result"
    }
   ],
   "source": [
    "data.keys()"
   ]
  },
  {
   "cell_type": "code",
   "execution_count": 30,
   "metadata": {},
   "outputs": [
    {
     "data": {
      "text/plain": [
       "[{'id': 0, 'name': 'M2A1Slammer', 'supercategory': 'none'},\n",
       " {'id': 1, 'name': 'M2A1Slammer', 'supercategory': 'M2A1Slammer'},\n",
       " {'id': 2, 'name': 'M5SandstormMLRS', 'supercategory': 'M2A1Slammer'},\n",
       " {'id': 3, 'name': 'T140Angara', 'supercategory': 'M2A1Slammer'},\n",
       " {'id': 4, 'name': 'ZamakMRL', 'supercategory': 'M2A1Slammer'}]"
      ]
     },
     "execution_count": 30,
     "metadata": {},
     "output_type": "execute_result"
    }
   ],
   "source": [
    "data['categories']"
   ]
  },
  {
   "cell_type": "code",
   "execution_count": 31,
   "metadata": {},
   "outputs": [
    {
     "data": {
      "text/plain": [
       "[{'id': 0,\n",
       "  'license': 1,\n",
       "  'file_name': 'M5Sandstorm__part_7.png',\n",
       "  'height': 432,\n",
       "  'width': 748,\n",
       "  'date_captured': '2024-11-20T10:38:39+00:00'},\n",
       " {'id': 1,\n",
       "  'license': 1,\n",
       "  'file_name': 'Zamak__part_23.png',\n",
       "  'height': 432,\n",
       "  'width': 748,\n",
       "  'date_captured': '2024-11-20T10:38:39+00:00'},\n",
       " {'id': 2,\n",
       "  'license': 1,\n",
       "  'file_name': 'M2A1Slammer2__part_12.png',\n",
       "  'height': 432,\n",
       "  'width': 748,\n",
       "  'date_captured': '2024-11-20T10:38:39+00:00'},\n",
       " {'id': 3,\n",
       "  'license': 1,\n",
       "  'file_name': 'Zamak__part_12.png',\n",
       "  'height': 432,\n",
       "  'width': 748,\n",
       "  'date_captured': '2024-11-20T10:38:39+00:00'},\n",
       " {'id': 4,\n",
       "  'license': 1,\n",
       "  'file_name': 'T140Angara__part_24.png',\n",
       "  'height': 432,\n",
       "  'width': 748,\n",
       "  'date_captured': '2024-11-20T10:38:39+00:00'},\n",
       " {'id': 5,\n",
       "  'license': 1,\n",
       "  'file_name': 'T140Angara__part_18.png',\n",
       "  'height': 432,\n",
       "  'width': 748,\n",
       "  'date_captured': '2024-11-20T10:38:39+00:00'},\n",
       " {'id': 6,\n",
       "  'license': 1,\n",
       "  'file_name': 'Zamak__part_1.png',\n",
       "  'height': 432,\n",
       "  'width': 748,\n",
       "  'date_captured': '2024-11-20T10:38:39+00:00'},\n",
       " {'id': 7,\n",
       "  'license': 1,\n",
       "  'file_name': 'Zamak__part_3.png',\n",
       "  'height': 432,\n",
       "  'width': 748,\n",
       "  'date_captured': '2024-11-20T10:38:39+00:00'},\n",
       " {'id': 8,\n",
       "  'license': 1,\n",
       "  'file_name': 'M5Sandstorm__part_12.png',\n",
       "  'height': 432,\n",
       "  'width': 748,\n",
       "  'date_captured': '2024-11-20T10:38:39+00:00'},\n",
       " {'id': 9,\n",
       "  'license': 1,\n",
       "  'file_name': 'M5Sandstorm__part_9.png',\n",
       "  'height': 432,\n",
       "  'width': 748,\n",
       "  'date_captured': '2024-11-20T10:38:39+00:00'},\n",
       " {'id': 10,\n",
       "  'license': 1,\n",
       "  'file_name': 'M2A1Slammer2__part_5.png',\n",
       "  'height': 432,\n",
       "  'width': 748,\n",
       "  'date_captured': '2024-11-20T10:38:39+00:00'},\n",
       " {'id': 11,\n",
       "  'license': 1,\n",
       "  'file_name': 'Zamak__part_11.png',\n",
       "  'height': 432,\n",
       "  'width': 748,\n",
       "  'date_captured': '2024-11-20T10:38:39+00:00'}]"
      ]
     },
     "execution_count": 31,
     "metadata": {},
     "output_type": "execute_result"
    }
   ],
   "source": [
    "data['images']"
   ]
  },
  {
   "cell_type": "code",
   "execution_count": 32,
   "metadata": {},
   "outputs": [
    {
     "data": {
      "text/plain": [
       "\"\\n전처리 1 : category 0 없애기\\n전처리 2 : data['images']경로에 파일이름 수정해주기 \\n전처리 3 : category 단위 1단위 당기기 \\n\""
      ]
     },
     "execution_count": 32,
     "metadata": {},
     "output_type": "execute_result"
    }
   ],
   "source": [
    "'''\n",
    "전처리 1 : category 0 없애기\n",
    "전처리 2 : data['images']경로에 파일이름 수정해주기 \n",
    "전처리 3 : category 단위 1단위 당기기 \n",
    "'''"
   ]
  },
  {
   "cell_type": "code",
   "execution_count": 33,
   "metadata": {},
   "outputs": [
    {
     "data": {
      "text/plain": [
       "[{'id': 0, 'name': 'M2A1Slammer', 'supercategory': 'none'},\n",
       " {'id': 1, 'name': 'M2A1Slammer', 'supercategory': 'M2A1Slammer'},\n",
       " {'id': 2, 'name': 'M5SandstormMLRS', 'supercategory': 'M2A1Slammer'},\n",
       " {'id': 3, 'name': 'T140Angara', 'supercategory': 'M2A1Slammer'},\n",
       " {'id': 4, 'name': 'ZamakMRL', 'supercategory': 'M2A1Slammer'}]"
      ]
     },
     "execution_count": 33,
     "metadata": {},
     "output_type": "execute_result"
    }
   ],
   "source": [
    "data['categories']"
   ]
  },
  {
   "cell_type": "code",
   "execution_count": 34,
   "metadata": {},
   "outputs": [],
   "source": [
    "for cate in data['categories']:\n",
    "    cate['id'] = cate['id'] - 1 "
   ]
  },
  {
   "cell_type": "code",
   "execution_count": 35,
   "metadata": {},
   "outputs": [
    {
     "data": {
      "text/plain": [
       "[{'id': -1, 'name': 'M2A1Slammer', 'supercategory': 'none'},\n",
       " {'id': 0, 'name': 'M2A1Slammer', 'supercategory': 'M2A1Slammer'},\n",
       " {'id': 1, 'name': 'M5SandstormMLRS', 'supercategory': 'M2A1Slammer'},\n",
       " {'id': 2, 'name': 'T140Angara', 'supercategory': 'M2A1Slammer'},\n",
       " {'id': 3, 'name': 'ZamakMRL', 'supercategory': 'M2A1Slammer'}]"
      ]
     },
     "execution_count": 35,
     "metadata": {},
     "output_type": "execute_result"
    }
   ],
   "source": [
    "data['categories']"
   ]
  },
  {
   "cell_type": "code",
   "execution_count": 36,
   "metadata": {},
   "outputs": [],
   "source": [
    "del data['categories'][0]"
   ]
  },
  {
   "cell_type": "code",
   "execution_count": 37,
   "metadata": {},
   "outputs": [
    {
     "data": {
      "text/plain": [
       "[{'id': 0, 'name': 'M2A1Slammer', 'supercategory': 'M2A1Slammer'},\n",
       " {'id': 1, 'name': 'M5SandstormMLRS', 'supercategory': 'M2A1Slammer'},\n",
       " {'id': 2, 'name': 'T140Angara', 'supercategory': 'M2A1Slammer'},\n",
       " {'id': 3, 'name': 'ZamakMRL', 'supercategory': 'M2A1Slammer'}]"
      ]
     },
     "execution_count": 37,
     "metadata": {},
     "output_type": "execute_result"
    }
   ],
   "source": [
    "data['categories']"
   ]
  },
  {
   "cell_type": "code",
   "execution_count": 173,
   "metadata": {},
   "outputs": [],
   "source": [
    "#del data['categories'][0]"
   ]
  },
  {
   "cell_type": "code",
   "execution_count": 174,
   "metadata": {},
   "outputs": [],
   "source": [
    "#data['categories'][0]['supercategory'] = data['categories'][0]['name']"
   ]
  },
  {
   "cell_type": "code",
   "execution_count": 38,
   "metadata": {},
   "outputs": [],
   "source": [
    "for anno in data['annotations']:\n",
    "    anno['category_id'] = anno['category_id'] -1"
   ]
  },
  {
   "cell_type": "code",
   "execution_count": 39,
   "metadata": {},
   "outputs": [
    {
     "name": "stdout",
     "output_type": "stream",
     "text": [
      "1\n",
      "1\n",
      "1\n",
      "3\n",
      "0\n",
      "0\n",
      "0\n",
      "3\n",
      "3\n",
      "2\n",
      "2\n",
      "2\n",
      "2\n",
      "3\n",
      "3\n",
      "1\n",
      "1\n",
      "1\n",
      "1\n",
      "1\n",
      "0\n",
      "0\n",
      "3\n",
      "3\n"
     ]
    }
   ],
   "source": [
    "for anno in data['annotations']:\n",
    "    z = anno['category_id']\n",
    "    print(z)"
   ]
  },
  {
   "cell_type": "code",
   "execution_count": 22,
   "metadata": {},
   "outputs": [
    {
     "name": "stdout",
     "output_type": "stream",
     "text": [
      "Zamak__part_21\n",
      "T140Angara__part_12\n",
      "T140Angara__part_8\n",
      "M2A1Slammer2__part_11\n",
      "Zamak__part_9\n",
      "M5Sandstorm__part_17\n",
      "M5Sandstorm__part_11\n",
      "T140Angara__part_9\n",
      "Zamak__part_10\n",
      "M5Sandstorm__part_16\n",
      "M5Sandstorm__part_25\n",
      "M2A1Slammer2__part_24\n",
      "T140Angara__part_15\n",
      "M2A1Slammer2__part_18\n",
      "M2A1Slammer2__part_17\n",
      "Zamak__part_7\n",
      "M2A1Slammer2__part_10\n",
      "M2A1Slammer2__part_9\n",
      "Zamak__part_14\n",
      "T140Angara__part_25\n",
      "M2A1Slammer2__part_23\n",
      "Zamak__part_18\n",
      "M5Sandstorm__part_18\n",
      "T140Angara__part_19\n",
      "T140Angara__part_20\n",
      "T140Angara__part_4\n",
      "T140Angara__part_11\n",
      "M5Sandstorm__part_20\n",
      "Zamak__part_16\n",
      "Zamak__part_24\n",
      "M2A1Slammer2__part_25\n",
      "T140Angara__part_17\n",
      "Zamak__part_8\n",
      "M5Sandstorm__part_13\n",
      "M2A1Slammer2__part_20\n",
      "T140Angara__part_14\n",
      "Zamak__part_4\n",
      "M2A1Slammer2__part_15\n",
      "M5Sandstorm__part_14\n",
      "M2A1Slammer2__part_1\n",
      "T140Angara__part_21\n",
      "T140Angara__part_22\n",
      "T140Angara__part_5\n",
      "T140Angara__part_13\n",
      "M2A1Slammer2__part_19\n",
      "T140Angara__part_7\n",
      "M2A1Slammer2__part_21\n",
      "M2A1Slammer2__part_13\n",
      "T140Angara__part_23\n",
      "Zamak__part_13\n",
      "M5Sandstorm__part_1\n",
      "M2A1Slammer2__part_14\n",
      "M5Sandstorm__part_4\n",
      "M2A1Slammer2__part_3\n",
      "M5Sandstorm__part_19\n",
      "M5Sandstorm__part_8\n",
      "Zamak__part_17\n",
      "Zamak__part_20\n",
      "M2A1Slammer2__part_16\n",
      "T140Angara__part_6\n",
      "M2A1Slammer2__part_2\n",
      "T140Angara__part_1\n",
      "M5Sandstorm__part_23\n",
      "Zamak__part_2\n",
      "T140Angara__part_10\n",
      "M5Sandstorm__part_21\n",
      "T140Angara__part_16\n",
      "M2A1Slammer2__part_4\n",
      "M5Sandstorm__part_24\n"
     ]
    }
   ],
   "source": [
    "#-----------------------\n",
    "for da in data['images']:\n",
    "    #print(da['file_name'])\n",
    "    ax = da['file_name'].split(\".\")[0].replace(\"_png\",\".png\")\n",
    "    print(ax)\n",
    "    #da['file_name'] = ax"
   ]
  },
  {
   "cell_type": "code",
   "execution_count": 153,
   "metadata": {},
   "outputs": [],
   "source": [
    "# #-------------------\n",
    "# for da in data['annotations']:\n",
    "#     print(da['category_id'])\n",
    "#     da['category_id'] = 0 \n",
    "#     print(da['category_id'])"
   ]
  },
  {
   "cell_type": "code",
   "execution_count": 40,
   "metadata": {},
   "outputs": [
    {
     "data": {
      "text/plain": [
       "'/disk3/eric/dataset/VISION_SOFS/WEAPON_4/val/_annotations.coco.json'"
      ]
     },
     "execution_count": 40,
     "metadata": {},
     "output_type": "execute_result"
    }
   ],
   "source": [
    "anno_path"
   ]
  },
  {
   "cell_type": "code",
   "execution_count": 41,
   "metadata": {},
   "outputs": [],
   "source": [
    "with open(anno_path, 'w') as file:\n",
    "    json.dump(data, file, ensure_ascii=False, indent=4)"
   ]
  },
  {
   "cell_type": "markdown",
   "metadata": {},
   "source": [
    "# Same with Validation File "
   ]
  },
  {
   "cell_type": "code",
   "execution_count": 24,
   "metadata": {},
   "outputs": [],
   "source": [
    "folder = \"/disk3/eric/dataset/VISION_SOFS/WEAPON_4/val\"\n",
    "anno_path = glob(os.path.join(folder, \"*.json\"))[0]"
   ]
  },
  {
   "cell_type": "code",
   "execution_count": 25,
   "metadata": {},
   "outputs": [
    {
     "name": "stdout",
     "output_type": "stream",
     "text": [
      "[{'id': 0, 'license': 1, 'file_name': 'M5Sandstorm__part_7.png', 'height': 432, 'width': 748, 'date_captured': '2024-11-20T10:38:39+00:00'}, {'id': 1, 'license': 1, 'file_name': 'Zamak__part_23.png', 'height': 432, 'width': 748, 'date_captured': '2024-11-20T10:38:39+00:00'}, {'id': 2, 'license': 1, 'file_name': 'M2A1Slammer2__part_12.png', 'height': 432, 'width': 748, 'date_captured': '2024-11-20T10:38:39+00:00'}, {'id': 3, 'license': 1, 'file_name': 'Zamak__part_12.png', 'height': 432, 'width': 748, 'date_captured': '2024-11-20T10:38:39+00:00'}, {'id': 4, 'license': 1, 'file_name': 'T140Angara__part_24.png', 'height': 432, 'width': 748, 'date_captured': '2024-11-20T10:38:39+00:00'}, {'id': 5, 'license': 1, 'file_name': 'T140Angara__part_18.png', 'height': 432, 'width': 748, 'date_captured': '2024-11-20T10:38:39+00:00'}, {'id': 6, 'license': 1, 'file_name': 'Zamak__part_1.png', 'height': 432, 'width': 748, 'date_captured': '2024-11-20T10:38:39+00:00'}, {'id': 7, 'license': 1, 'file_name': 'Zamak__part_3.png', 'height': 432, 'width': 748, 'date_captured': '2024-11-20T10:38:39+00:00'}, {'id': 8, 'license': 1, 'file_name': 'M5Sandstorm__part_12.png', 'height': 432, 'width': 748, 'date_captured': '2024-11-20T10:38:39+00:00'}, {'id': 9, 'license': 1, 'file_name': 'M5Sandstorm__part_9.png', 'height': 432, 'width': 748, 'date_captured': '2024-11-20T10:38:39+00:00'}, {'id': 10, 'license': 1, 'file_name': 'M2A1Slammer2__part_5.png', 'height': 432, 'width': 748, 'date_captured': '2024-11-20T10:38:39+00:00'}, {'id': 11, 'license': 1, 'file_name': 'Zamak__part_11.png', 'height': 432, 'width': 748, 'date_captured': '2024-11-20T10:38:39+00:00'}]\n"
     ]
    },
    {
     "data": {
      "text/plain": [
       "'defect category table :'"
      ]
     },
     "metadata": {},
     "output_type": "display_data"
    },
    {
     "data": {
      "text/plain": [
       "[{'id': 0, 'name': 'M2A1Slammer', 'supercategory': 'none'},\n",
       " {'id': 1, 'name': 'M2A1Slammer', 'supercategory': 'M2A1Slammer'},\n",
       " {'id': 2, 'name': 'M5SandstormMLRS', 'supercategory': 'M2A1Slammer'},\n",
       " {'id': 3, 'name': 'T140Angara', 'supercategory': 'M2A1Slammer'},\n",
       " {'id': 4, 'name': 'ZamakMRL', 'supercategory': 'M2A1Slammer'}]"
      ]
     },
     "metadata": {},
     "output_type": "display_data"
    }
   ],
   "source": [
    "target_img_id = 0 \n",
    "mask_on = False\n",
    "bbox_on = True\n",
    "create_mask = True\n",
    "\n",
    "#-- anno\n",
    "with open(anno_path, 'r') as f:\n",
    "    data = json.load(f)\n",
    "file_name = [ i['file_name'] for i in data['images'] if i ['id'] == target_img_id][0]\n",
    "\n",
    "print(data['images'])\n",
    "\n",
    "display(\"defect category table :\", data['categories'])"
   ]
  },
  {
   "cell_type": "code",
   "execution_count": 26,
   "metadata": {},
   "outputs": [
    {
     "data": {
      "text/plain": [
       "[{'id': 0, 'name': 'M2A1Slammer', 'supercategory': 'none'},\n",
       " {'id': 1, 'name': 'M2A1Slammer', 'supercategory': 'M2A1Slammer'},\n",
       " {'id': 2, 'name': 'M5SandstormMLRS', 'supercategory': 'M2A1Slammer'},\n",
       " {'id': 3, 'name': 'T140Angara', 'supercategory': 'M2A1Slammer'},\n",
       " {'id': 4, 'name': 'ZamakMRL', 'supercategory': 'M2A1Slammer'}]"
      ]
     },
     "execution_count": 26,
     "metadata": {},
     "output_type": "execute_result"
    }
   ],
   "source": [
    "data['categories']"
   ]
  },
  {
   "cell_type": "code",
   "execution_count": 159,
   "metadata": {},
   "outputs": [],
   "source": [
    "# del data['categories'][0]"
   ]
  },
  {
   "cell_type": "code",
   "execution_count": 160,
   "metadata": {},
   "outputs": [],
   "source": [
    "# data['categories'][0]['supercategory'] = data['categories'][0]['name']"
   ]
  },
  {
   "cell_type": "code",
   "execution_count": 185,
   "metadata": {},
   "outputs": [
    {
     "name": "stdout",
     "output_type": "stream",
     "text": [
      "M5Sandstorm__part_7.png\n",
      "Zamak__part_23.png\n",
      "M2A1Slammer2__part_12.png\n",
      "Zamak__part_12.png\n",
      "T140Angara__part_24.png\n",
      "T140Angara__part_18.png\n",
      "Zamak__part_1.png\n",
      "Zamak__part_3.png\n",
      "M5Sandstorm__part_12.png\n",
      "M5Sandstorm__part_9.png\n",
      "M2A1Slammer2__part_5.png\n",
      "Zamak__part_11.png\n"
     ]
    }
   ],
   "source": [
    "#-----------------------\n",
    "for da in data['images']:\n",
    "    #print(da['file_name'])\n",
    "    ax = da['file_name'].split(\".\")[0].replace(\"_png\",\".png\")\n",
    "    print(ax)\n",
    "    da['file_name'] = ax"
   ]
  },
  {
   "cell_type": "code",
   "execution_count": 163,
   "metadata": {},
   "outputs": [],
   "source": [
    "# #-------------------\n",
    "# for da in data['annotations']:\n",
    "#     da['category_id'] = 0\n",
    "#     print(da['category_id']) "
   ]
  },
  {
   "cell_type": "code",
   "execution_count": 186,
   "metadata": {},
   "outputs": [],
   "source": [
    "with open(anno_path, 'w') as file:\n",
    "    json.dump(data, file, ensure_ascii=False, indent=4)"
   ]
  }
 ],
 "metadata": {
  "kernelspec": {
   "display_name": "trex",
   "language": "python",
   "name": "python3"
  },
  "language_info": {
   "codemirror_mode": {
    "name": "ipython",
    "version": 3
   },
   "file_extension": ".py",
   "mimetype": "text/x-python",
   "name": "python",
   "nbconvert_exporter": "python",
   "pygments_lexer": "ipython3",
   "version": "3.9.12"
  }
 },
 "nbformat": 4,
 "nbformat_minor": 2
}
