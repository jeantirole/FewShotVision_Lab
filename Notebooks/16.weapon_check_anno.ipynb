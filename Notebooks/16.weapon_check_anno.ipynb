{
 "cells": [
  {
   "cell_type": "markdown",
   "metadata": {},
   "source": [
    "# Vis for Train"
   ]
  },
  {
   "cell_type": "markdown",
   "metadata": {},
   "source": [
    "- vis \n",
    "- create mask"
   ]
  },
  {
   "cell_type": "code",
   "execution_count": 1,
   "metadata": {},
   "outputs": [],
   "source": [
    "import os \n",
    "import PIL\n",
    "import matplotlib.pyplot as plt\n",
    "import matplotlib.patches as patches\n",
    "import numpy as np \n",
    "import json\n",
    "from glob import glob"
   ]
  },
  {
   "cell_type": "code",
   "execution_count": 37,
   "metadata": {},
   "outputs": [],
   "source": [
    "folder = \"/disk3/eric/dataset/military/train\"\n",
    "#folder = \"/disk3/eric/dataset/VISION_SOFS/Cable/train\"\n",
    "anno_path = glob(os.path.join(folder, \"*.json\"))[0]"
   ]
  },
  {
   "cell_type": "code",
   "execution_count": 35,
   "metadata": {},
   "outputs": [
    {
     "data": {
      "text/plain": [
       "'/disk3/eric/dataset/VISION_SOFS/Cable/train/_annotations.coco.json'"
      ]
     },
     "execution_count": 35,
     "metadata": {},
     "output_type": "execute_result"
    }
   ],
   "source": [
    "anno_path"
   ]
  },
  {
   "cell_type": "code",
   "execution_count": 36,
   "metadata": {},
   "outputs": [],
   "source": [
    "#-- anno\n",
    "with open(anno_path, 'r') as f:\n",
    "    data = json.load(f)"
   ]
  },
  {
   "cell_type": "code",
   "execution_count": 30,
   "metadata": {},
   "outputs": [
    {
     "name": "stdout",
     "output_type": "stream",
     "text": [
      "019_top_left.png\n",
      "006_bottom_left.png\n",
      "011_top_left.png\n",
      "019_bottom_left.png\n",
      "001_bottom_right.png\n",
      "004_bottom_right.png\n",
      "002_bottom_left.png\n",
      "019_top_right.png\n",
      "009_bottom_right.png\n",
      "002_top_left.png\n",
      "014_top_left.png\n",
      "003_bottom_left.png\n",
      "020_bottom_right.png\n",
      "020_top_left.png\n",
      "005_bottom_left.png\n",
      "008_bottom_left.png\n",
      "005_top_left.png\n",
      "007_bottom_right.png\n",
      "003_top_left.png\n",
      "004_top_right.png\n",
      "013_bottom_right.png\n",
      "020_top_right.png\n",
      "012_bottom_left.png\n",
      "006_top_left.png\n",
      "017_top_right.png\n",
      "010_top_left.png\n",
      "007_bottom_left.png\n",
      "020_bottom_left.png\n"
     ]
    }
   ],
   "source": [
    "#--- img name change \n",
    "for im in data['images']:\n",
    "    print(im['file_name'].split(\".\")[0].replace(\"_png\",\".png\"))\n",
    "    im['file_name'] = im['file_name'].split(\".\")[0].replace(\"_png\",\".png\")"
   ]
  },
  {
   "cell_type": "code",
   "execution_count": 31,
   "metadata": {},
   "outputs": [],
   "source": [
    "with open(anno_path, 'w') as f:\n",
    "    json.dump(data, f, indent=4)"
   ]
  },
  {
   "cell_type": "markdown",
   "metadata": {},
   "source": [
    "- Mask"
   ]
  },
  {
   "cell_type": "code",
   "execution_count": null,
   "metadata": {},
   "outputs": [],
   "source": []
  }
 ],
 "metadata": {
  "kernelspec": {
   "display_name": "fewshotseg3",
   "language": "python",
   "name": "python3"
  },
  "language_info": {
   "codemirror_mode": {
    "name": "ipython",
    "version": 3
   },
   "file_extension": ".py",
   "mimetype": "text/x-python",
   "name": "python",
   "nbconvert_exporter": "python",
   "pygments_lexer": "ipython3",
   "version": "3.9.12"
  }
 },
 "nbformat": 4,
 "nbformat_minor": 2
}
