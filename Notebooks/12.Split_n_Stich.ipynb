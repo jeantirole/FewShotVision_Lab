{
 "cells": [
  {
   "cell_type": "code",
   "execution_count": 20,
   "metadata": {},
   "outputs": [],
   "source": [
    "import matplotlib.pyplot as plt\n",
    "from PIL import Image\n",
    "import numpy as np\n",
    "import os\n",
    "from glob import glob"
   ]
  },
  {
   "cell_type": "code",
   "execution_count": 21,
   "metadata": {},
   "outputs": [],
   "source": [
    "data_root = \"/disk3/eric/dataset/VISION_SOFS/WEAPON_4/test\""
   ]
  },
  {
   "cell_type": "code",
   "execution_count": 22,
   "metadata": {},
   "outputs": [],
   "source": [
    "#path_ = os.path.join(data_root, \"label\") + \"/*.png\"\n",
    "path_ = os.path.join(data_root) + \"/*.png\""
   ]
  },
  {
   "cell_type": "code",
   "execution_count": 23,
   "metadata": {},
   "outputs": [
    {
     "data": {
      "text/plain": [
       "'/disk3/eric/dataset/VISION_SOFS/WEAPON_4/test/*.png'"
      ]
     },
     "execution_count": 23,
     "metadata": {},
     "output_type": "execute_result"
    }
   ],
   "source": [
    "path_"
   ]
  },
  {
   "cell_type": "code",
   "execution_count": 24,
   "metadata": {},
   "outputs": [],
   "source": [
    "img_path = sorted(glob(path_))[1]"
   ]
  },
  {
   "cell_type": "code",
   "execution_count": 25,
   "metadata": {},
   "outputs": [
    {
     "name": "stdout",
     "output_type": "stream",
     "text": [
      "filename /disk3/eric/dataset/VISION_SOFS/WEAPON_4/test/north.png\n"
     ]
    }
   ],
   "source": [
    "img_ = Image.open(sorted(glob(path_))[0])"
   ]
  },
  {
   "cell_type": "code",
   "execution_count": 26,
   "metadata": {},
   "outputs": [
    {
     "data": {
      "text/plain": [
       "(3840, 2160)"
      ]
     },
     "execution_count": 26,
     "metadata": {},
     "output_type": "execute_result"
    }
   ],
   "source": [
    "img_.size"
   ]
  },
  {
   "cell_type": "code",
   "execution_count": 27,
   "metadata": {},
   "outputs": [
    {
     "data": {
      "text/plain": [
       "'4'"
      ]
     },
     "execution_count": 27,
     "metadata": {},
     "output_type": "execute_result"
    }
   ],
   "source": [
    "path_.split(\"/\")[-3].split(\"_\")[-1]"
   ]
  },
  {
   "cell_type": "code",
   "execution_count": 28,
   "metadata": {},
   "outputs": [],
   "source": [
    "img_list_unorder = sorted(os.listdir(data_root))"
   ]
  },
  {
   "cell_type": "code",
   "execution_count": 29,
   "metadata": {},
   "outputs": [
    {
     "data": {
      "text/plain": [
       "['north.png', 'north2.png', 'test1.png']"
      ]
     },
     "execution_count": 29,
     "metadata": {},
     "output_type": "execute_result"
    }
   ],
   "source": [
    "img_list_unorder"
   ]
  },
  {
   "cell_type": "code",
   "execution_count": 63,
   "metadata": {},
   "outputs": [],
   "source": [
    "def split_save(path,target_folder):\n",
    "\n",
    "    image = Image.open(path)\n",
    "    #num_ = path.split(\"/\")[-3].split(\"_\")[-1]\n",
    "    num_ = path.split(\"/\")[-1].split(\".\")[0]\n",
    "    width, height = image.size\n",
    "\n",
    "    # 4분할된 이미지의 크기를 계산합니다\n",
    "    half_width = width // 2\n",
    "    half_height = height // 2\n",
    "\n",
    "    # 각 4분할 영역을 자릅니다\n",
    "    top_left = image.crop((0, 0, half_width, half_height))\n",
    "    top_right = image.crop((half_width, 0, width, half_height))\n",
    "    bottom_left = image.crop((0, half_height, half_width, height))\n",
    "    bottom_right = image.crop((half_width, half_height, width, height))\n",
    "\n",
    "    # 잘라낸 이미지를 각각 저장합니다\n",
    "    top_left.save(os.path.join( target_folder, f\"{num_}_top_left.png\"))\n",
    "    top_right.save(os.path.join( target_folder, f\"{num_}_top_right.png\"))\n",
    "    bottom_left.save(os.path.join( target_folder, f\"{num_}_bottom_left.png\"))\n",
    "    bottom_right.save(os.path.join( target_folder, f\"{num_}_bottom_right.png\"))\n",
    "\n",
    "    print(\"Images have been saved.\")"
   ]
  },
  {
   "cell_type": "code",
   "execution_count": 64,
   "metadata": {},
   "outputs": [],
   "source": [
    "def split_save_16(path, target_folder):\n",
    "    image = Image.open(path)\n",
    "    num_ = path.split(\"/\")[-1].split(\".\")[0]  # 파일명 추출\n",
    "    width, height = image.size\n",
    "\n",
    "    # 16분할된 이미지의 크기를 계산합니다\n",
    "    quarter_width = width // 4\n",
    "    quarter_height = height // 4\n",
    "\n",
    "    # 각 16분할 영역을 자릅니다\n",
    "    crops = []\n",
    "    for row in range(4):\n",
    "        for col in range(4):\n",
    "            left = col * quarter_width\n",
    "            upper = row * quarter_height\n",
    "            right = left + quarter_width\n",
    "            lower = upper + quarter_height\n",
    "            crops.append((left, upper, right, lower))\n",
    "\n",
    "    # 각 잘라낸 이미지 저장\n",
    "    for i, crop in enumerate(crops):\n",
    "        cropped_image = image.crop(crop)\n",
    "        cropped_image.save(os.path.join(target_folder, f\"{num_}_part_{i + 1}.png\"))\n",
    "\n",
    "    print(\"16-part images have been saved.\")"
   ]
  },
  {
   "cell_type": "code",
   "execution_count": 30,
   "metadata": {},
   "outputs": [],
   "source": [
    "from PIL import Image\n",
    "import os\n",
    "\n",
    "def split_save_25(path, target_folder):\n",
    "    image = Image.open(path)\n",
    "    num_ = path.split(\"/\")[-1].split(\".\")[0]  # 파일명 추출\n",
    "    width, height = image.size\n",
    "\n",
    "    # 25분할된 이미지의 크기를 계산합니다\n",
    "    part_width = width // 5\n",
    "    part_height = height // 5\n",
    "\n",
    "    # 각 25분할 영역을 자릅니다\n",
    "    crops = []\n",
    "    for row in range(5):\n",
    "        for col in range(5):\n",
    "            left = col * part_width\n",
    "            upper = row * part_height\n",
    "            right = left + part_width\n",
    "            lower = upper + part_height\n",
    "            crops.append((left, upper, right, lower))\n",
    "\n",
    "    # 각 잘라낸 이미지 저장\n",
    "    for i, crop in enumerate(crops):\n",
    "        cropped_image = image.crop(crop)\n",
    "        cropped_image.save(os.path.join(target_folder, f\"{num_}_part_{i + 1}.png\"))\n",
    "\n",
    "    print(\"25-part images have been saved.\")\n"
   ]
  },
  {
   "cell_type": "code",
   "execution_count": 31,
   "metadata": {},
   "outputs": [
    {
     "data": {
      "text/plain": [
       "'/disk3/eric/dataset/VISION_SOFS/WEAPON_4/test'"
      ]
     },
     "execution_count": 31,
     "metadata": {},
     "output_type": "execute_result"
    }
   ],
   "source": [
    "data_root"
   ]
  },
  {
   "cell_type": "code",
   "execution_count": 32,
   "metadata": {},
   "outputs": [],
   "source": [
    "#data_root = \"/home/eric/data/military_data/tanks_20/image\"\n",
    "path_ = os.path.join(data_root) + \"/*.png\"\n",
    "img_list = glob(path_)"
   ]
  },
  {
   "cell_type": "code",
   "execution_count": 33,
   "metadata": {},
   "outputs": [],
   "source": [
    "img_list = sorted(img_list)"
   ]
  },
  {
   "cell_type": "code",
   "execution_count": 35,
   "metadata": {},
   "outputs": [
    {
     "data": {
      "text/plain": [
       "'/disk3/eric/dataset/VISION_SOFS/WEAPON_4/test/north2.png'"
      ]
     },
     "execution_count": 35,
     "metadata": {},
     "output_type": "execute_result"
    }
   ],
   "source": [
    "img_list[1]"
   ]
  },
  {
   "cell_type": "code",
   "execution_count": 36,
   "metadata": {},
   "outputs": [
    {
     "data": {
      "text/plain": [
       "'/disk3/eric/dataset/VISION_SOFS/WEAPON_4/test'"
      ]
     },
     "execution_count": 36,
     "metadata": {},
     "output_type": "execute_result"
    }
   ],
   "source": [
    "data_root"
   ]
  },
  {
   "cell_type": "code",
   "execution_count": 37,
   "metadata": {},
   "outputs": [
    {
     "name": "stdout",
     "output_type": "stream",
     "text": [
      "filename /disk3/eric/dataset/VISION_SOFS/WEAPON_4/test/north2.png\n",
      "25-part images have been saved.\n"
     ]
    }
   ],
   "source": [
    "split_save_25(img_list[1], \"/disk3/eric/dataset/VISION_SOFS/WEAPON_4/test_splits\")"
   ]
  },
  {
   "cell_type": "code",
   "execution_count": null,
   "metadata": {},
   "outputs": [
    {
     "name": "stdout",
     "output_type": "stream",
     "text": [
      "/disk3/eric/dataset/VISION_SOFS/WEAPON_4/test/test1.png\n",
      "filename /disk3/eric/dataset/VISION_SOFS/WEAPON_4/test/test1.png\n",
      "25-part images have been saved.\n"
     ]
    }
   ],
   "source": [
    "# for img_path in img_list:\n",
    "#     print(img_path)\n",
    "#     split_save_25(img_path,\"/disk3/eric/dataset/VISION_SOFS/WEAPON_4/test_splits\")"
   ]
  },
  {
   "cell_type": "code",
   "execution_count": 26,
   "metadata": {},
   "outputs": [
    {
     "name": "stdout",
     "output_type": "stream",
     "text": [
      "/disk3/eric/dataset/weapon_v1/train/001.png\n",
      "filename /disk3/eric/dataset/weapon_v1/train/001.png\n",
      "16-part images have been saved.\n",
      "/disk3/eric/dataset/weapon_v1/train/002.png\n",
      "filename /disk3/eric/dataset/weapon_v1/train/002.png\n",
      "16-part images have been saved.\n",
      "/disk3/eric/dataset/weapon_v1/train/003.png\n",
      "filename /disk3/eric/dataset/weapon_v1/train/003.png\n",
      "16-part images have been saved.\n",
      "/disk3/eric/dataset/weapon_v1/train/004.png\n",
      "filename /disk3/eric/dataset/weapon_v1/train/004.png\n",
      "16-part images have been saved.\n",
      "/disk3/eric/dataset/weapon_v1/train/005.png\n",
      "filename /disk3/eric/dataset/weapon_v1/train/005.png\n",
      "16-part images have been saved.\n",
      "/disk3/eric/dataset/weapon_v1/train/007.png\n",
      "filename /disk3/eric/dataset/weapon_v1/train/007.png\n",
      "16-part images have been saved.\n"
     ]
    }
   ],
   "source": [
    "for img_path in img_list:\n",
    "    print(img_path)\n",
    "    split_save_16(img_path,\"/disk3/eric/dataset/VISION_SOFS/WEAPON_1/train_split_16\")"
   ]
  }
 ],
 "metadata": {
  "kernelspec": {
   "display_name": "trex",
   "language": "python",
   "name": "python3"
  },
  "language_info": {
   "codemirror_mode": {
    "name": "ipython",
    "version": 3
   },
   "file_extension": ".py",
   "mimetype": "text/x-python",
   "name": "python",
   "nbconvert_exporter": "python",
   "pygments_lexer": "ipython3",
   "version": "3.9.12"
  }
 },
 "nbformat": 4,
 "nbformat_minor": 2
}
