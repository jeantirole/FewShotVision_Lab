{
 "cells": [
  {
   "cell_type": "code",
   "execution_count": 2,
   "metadata": {},
   "outputs": [],
   "source": [
    "import json\n",
    "import numpy as np\n",
    "import skimage\n",
    "import tifffile\n",
    "import os\n",
    "import shutil"
   ]
  },
  {
   "cell_type": "code",
   "execution_count": 5,
   "metadata": {},
   "outputs": [],
   "source": [
    "root_dir = \"/disk3/eric/dataset/Weapon_System/segmentation_pipes\"\n",
    "\n",
    "train_img_dir  = os.path.join(root_dir, \"train/images\")\n",
    "train_ann_dir  = os.path.join(root_dir, \"train/_annotations.coco.json\")\n",
    "train_mask_dir = os.path.join(root_dir, \"train/labels\")\n",
    "\n",
    "valid_img_dir  = os.path.join(root_dir, \"valid/images\")\n",
    "valid_ann_dir  = os.path.join(root_dir, \"valid/_annotations.coco.json\")\n",
    "valid_mask_dir = os.path.join(root_dir, \"valid/labels\")"
   ]
  },
  {
   "cell_type": "code",
   "execution_count": 6,
   "metadata": {},
   "outputs": [
    {
     "data": {
      "text/plain": [
       "'/disk3/eric/dataset/Weapon_System/segmentation_pipes/train/_annotations.coco.json'"
      ]
     },
     "metadata": {},
     "output_type": "display_data"
    },
    {
     "data": {
      "text/plain": [
       "[{'id': 0, 'name': 'background', 'supercategory': 'background'},\n",
       " {'id': 1, 'name': 'M2A1Slammer', 'supercategory': 'M2A1Slammer'},\n",
       " {'id': 2, 'name': 'M5SandstormMLRS', 'supercategory': 'M2A1Slammer'},\n",
       " {'id': 3, 'name': 'T140Angara', 'supercategory': 'M2A1Slammer'},\n",
       " {'id': 4, 'name': 'ZamakMRL', 'supercategory': 'M2A1Slammer'}]"
      ]
     },
     "metadata": {},
     "output_type": "display_data"
    },
    {
     "data": {
      "text/plain": [
       "'/disk3/eric/dataset/Weapon_System/segmentation_pipes/valid/_annotations.coco.json'"
      ]
     },
     "metadata": {},
     "output_type": "display_data"
    },
    {
     "data": {
      "text/plain": [
       "[{'id': 0, 'name': 'background', 'supercategory': 'background'},\n",
       " {'id': 1, 'name': 'M2A1Slammer', 'supercategory': 'M2A1Slammer'},\n",
       " {'id': 2, 'name': 'M5SandstormMLRS', 'supercategory': 'M2A1Slammer'},\n",
       " {'id': 3, 'name': 'T140Angara', 'supercategory': 'M2A1Slammer'},\n",
       " {'id': 4, 'name': 'ZamakMRL', 'supercategory': 'M2A1Slammer'}]"
      ]
     },
     "metadata": {},
     "output_type": "display_data"
    }
   ],
   "source": [
    "def category_change(file_path):\n",
    "    '''\n",
    "    coco segmentation format from roboflow\n",
    "    '''\n",
    "\n",
    "    with open(file_path, 'r') as f:\n",
    "        data = json.load(f)\n",
    "\n",
    "    #--------------------------------\n",
    "    images = data['images']\n",
    "    annotations = data['annotations']\n",
    "    categories = data['categories']\n",
    "    #--------------------------------\n",
    "    categories[0]['name'] = \"background\"\n",
    "    categories[0]['supercategory'] = \"background\"\n",
    "    display(file_path)\n",
    "    display(categories)\n",
    "    \n",
    "    with open(file_path, 'w') as f:\n",
    "        json.dump(data, f, indent=4)\n",
    "\n",
    "\n",
    "#--\n",
    "category_change(train_ann_dir)\n",
    "category_change(valid_ann_dir)"
   ]
  },
  {
   "cell_type": "code",
   "execution_count": 7,
   "metadata": {},
   "outputs": [],
   "source": [
    "import shutil\n",
    "source_img = \"/disk3/eric/dataset/Weapon_System/splits\"\n",
    "\n",
    "def copy_images(ann_dir,source_img_dir, target_img_dir):\n",
    "    with open(ann_dir, 'r') as f:\n",
    "        data = json.load(f)\n",
    "    #--------------------------------\n",
    "    images = data['images']\n",
    "    \n",
    "    #--- train \n",
    "    for i in images:\n",
    "        #print(i['file_name'])\n",
    "        z = i['file_name'].split(\".\")[0].replace(\"_png\",\".png\")\n",
    "        src_path = os.path.join(source_img_dir,z)\n",
    "        dst_path = os.path.join(target_img_dir,z)\n",
    "        shutil.copy(src_path,dst_path)\n",
    "        \n",
    "#--\n",
    "copy_images(train_ann_dir, source_img, train_img_dir)\n",
    "copy_images(valid_ann_dir, source_img, valid_img_dir)"
   ]
  },
  {
   "cell_type": "code",
   "execution_count": 8,
   "metadata": {},
   "outputs": [
    {
     "name": "stdout",
     "output_type": "stream",
     "text": [
      "Saved mask for Zamak__part_21.png to /disk3/eric/dataset/Weapon_System/segmentation_pipes/train/labels/Zamak__part_21.png\n",
      "Saved mask for M2A1Slammer2__part_24.png to /disk3/eric/dataset/Weapon_System/segmentation_pipes/train/labels/M2A1Slammer2__part_24.png\n",
      "Saved mask for Zamak__part_18.png to /disk3/eric/dataset/Weapon_System/segmentation_pipes/train/labels/Zamak__part_18.png\n",
      "Saved mask for M5Sandstorm__part_17.png to /disk3/eric/dataset/Weapon_System/segmentation_pipes/train/labels/M5Sandstorm__part_17.png\n",
      "Saved mask for T140Angara__part_8.png to /disk3/eric/dataset/Weapon_System/segmentation_pipes/train/labels/T140Angara__part_8.png\n",
      "Saved mask for city_part_5.png to /disk3/eric/dataset/Weapon_System/segmentation_pipes/train/labels/city_part_5.png\n",
      "Saved mask for M2A1Slammer2__part_23.png to /disk3/eric/dataset/Weapon_System/segmentation_pipes/train/labels/M2A1Slammer2__part_23.png\n",
      "Saved mask for Zamak__part_23.png to /disk3/eric/dataset/Weapon_System/segmentation_pipes/train/labels/Zamak__part_23.png\n",
      "Saved mask for M2A1Slammer2__part_11.png to /disk3/eric/dataset/Weapon_System/segmentation_pipes/train/labels/M2A1Slammer2__part_11.png\n",
      "Saved mask for city_part_4.png to /disk3/eric/dataset/Weapon_System/segmentation_pipes/train/labels/city_part_4.png\n",
      "Saved mask for Zamak__part_9.png to /disk3/eric/dataset/Weapon_System/segmentation_pipes/train/labels/Zamak__part_9.png\n",
      "Saved mask for Zamak__part_12.png to /disk3/eric/dataset/Weapon_System/segmentation_pipes/train/labels/Zamak__part_12.png\n",
      "Saved mask for M5Sandstorm__part_18.png to /disk3/eric/dataset/Weapon_System/segmentation_pipes/train/labels/M5Sandstorm__part_18.png\n",
      "Saved mask for T140Angara__part_15.png to /disk3/eric/dataset/Weapon_System/segmentation_pipes/train/labels/T140Angara__part_15.png\n",
      "Saved mask for T140Angara__part_19.png to /disk3/eric/dataset/Weapon_System/segmentation_pipes/train/labels/T140Angara__part_19.png\n",
      "Saved mask for M5Sandstorm__part_25.png to /disk3/eric/dataset/Weapon_System/segmentation_pipes/train/labels/M5Sandstorm__part_25.png\n",
      "Saved mask for M2A1Slammer2__part_9.png to /disk3/eric/dataset/Weapon_System/segmentation_pipes/train/labels/M2A1Slammer2__part_9.png\n",
      "Saved mask for M2A1Slammer2__part_17.png to /disk3/eric/dataset/Weapon_System/segmentation_pipes/train/labels/M2A1Slammer2__part_17.png\n",
      "Saved mask for T140Angara__part_20.png to /disk3/eric/dataset/Weapon_System/segmentation_pipes/train/labels/T140Angara__part_20.png\n",
      "Saved mask for Zamak__part_7.png to /disk3/eric/dataset/Weapon_System/segmentation_pipes/train/labels/Zamak__part_7.png\n",
      "Saved mask for M5Sandstorm__part_16.png to /disk3/eric/dataset/Weapon_System/segmentation_pipes/train/labels/M5Sandstorm__part_16.png\n",
      "Saved mask for M5Sandstorm__part_11.png to /disk3/eric/dataset/Weapon_System/segmentation_pipes/train/labels/M5Sandstorm__part_11.png\n",
      "Saved mask for T140Angara__part_9.png to /disk3/eric/dataset/Weapon_System/segmentation_pipes/train/labels/T140Angara__part_9.png\n",
      "Saved mask for T140Angara__part_12.png to /disk3/eric/dataset/Weapon_System/segmentation_pipes/train/labels/T140Angara__part_12.png\n",
      "Saved mask for T140Angara__part_25.png to /disk3/eric/dataset/Weapon_System/segmentation_pipes/train/labels/T140Angara__part_25.png\n",
      "Saved mask for T140Angara__part_4.png to /disk3/eric/dataset/Weapon_System/segmentation_pipes/train/labels/T140Angara__part_4.png\n",
      "Saved mask for T140Angara__part_13.png to /disk3/eric/dataset/Weapon_System/segmentation_pipes/train/labels/T140Angara__part_13.png\n",
      "Saved mask for M2A1Slammer2__part_25.png to /disk3/eric/dataset/Weapon_System/segmentation_pipes/train/labels/M2A1Slammer2__part_25.png\n",
      "Saved mask for T140Angara__part_23.png to /disk3/eric/dataset/Weapon_System/segmentation_pipes/train/labels/T140Angara__part_23.png\n",
      "Saved mask for Zamak__part_3.png to /disk3/eric/dataset/Weapon_System/segmentation_pipes/train/labels/Zamak__part_3.png\n",
      "Saved mask for Zamak__part_10.png to /disk3/eric/dataset/Weapon_System/segmentation_pipes/train/labels/Zamak__part_10.png\n",
      "Saved mask for T140Angara__part_22.png to /disk3/eric/dataset/Weapon_System/segmentation_pipes/train/labels/T140Angara__part_22.png\n",
      "Saved mask for city_part_9.png to /disk3/eric/dataset/Weapon_System/segmentation_pipes/train/labels/city_part_9.png\n",
      "Saved mask for T140Angara__part_5.png to /disk3/eric/dataset/Weapon_System/segmentation_pipes/train/labels/T140Angara__part_5.png\n",
      "Saved mask for Zamak__part_4.png to /disk3/eric/dataset/Weapon_System/segmentation_pipes/train/labels/Zamak__part_4.png\n",
      "Saved mask for T140Angara__part_7.png to /disk3/eric/dataset/Weapon_System/segmentation_pipes/train/labels/T140Angara__part_7.png\n",
      "Saved mask for T140Angara__part_17.png to /disk3/eric/dataset/Weapon_System/segmentation_pipes/train/labels/T140Angara__part_17.png\n",
      "Saved mask for M5Sandstorm__part_7.png to /disk3/eric/dataset/Weapon_System/segmentation_pipes/train/labels/M5Sandstorm__part_7.png\n",
      "Saved mask for T140Angara__part_21.png to /disk3/eric/dataset/Weapon_System/segmentation_pipes/train/labels/T140Angara__part_21.png\n",
      "Saved mask for M2A1Slammer2__part_1.png to /disk3/eric/dataset/Weapon_System/segmentation_pipes/train/labels/M2A1Slammer2__part_1.png\n",
      "Saved mask for Zamak__part_24.png to /disk3/eric/dataset/Weapon_System/segmentation_pipes/train/labels/Zamak__part_24.png\n",
      "Saved mask for M2A1Slammer2__part_12.png to /disk3/eric/dataset/Weapon_System/segmentation_pipes/train/labels/M2A1Slammer2__part_12.png\n",
      "Saved mask for M5Sandstorm__part_24.png to /disk3/eric/dataset/Weapon_System/segmentation_pipes/train/labels/M5Sandstorm__part_24.png\n",
      "Saved mask for M2A1Slammer2__part_19.png to /disk3/eric/dataset/Weapon_System/segmentation_pipes/train/labels/M2A1Slammer2__part_19.png\n",
      "Saved mask for M5Sandstorm__part_20.png to /disk3/eric/dataset/Weapon_System/segmentation_pipes/train/labels/M5Sandstorm__part_20.png\n",
      "Saved mask for Zamak__part_16.png to /disk3/eric/dataset/Weapon_System/segmentation_pipes/train/labels/Zamak__part_16.png\n",
      "Saved mask for M2A1Slammer2__part_21.png to /disk3/eric/dataset/Weapon_System/segmentation_pipes/train/labels/M2A1Slammer2__part_21.png\n",
      "Saved mask for city_part_13.png to /disk3/eric/dataset/Weapon_System/segmentation_pipes/train/labels/city_part_13.png\n",
      "Saved mask for T140Angara__part_1.png to /disk3/eric/dataset/Weapon_System/segmentation_pipes/train/labels/T140Angara__part_1.png\n",
      "Saved mask for M2A1Slammer2__part_15.png to /disk3/eric/dataset/Weapon_System/segmentation_pipes/train/labels/M2A1Slammer2__part_15.png\n",
      "Saved mask for Zamak__part_13.png to /disk3/eric/dataset/Weapon_System/segmentation_pipes/train/labels/Zamak__part_13.png\n",
      "Saved mask for M5Sandstorm__part_14.png to /disk3/eric/dataset/Weapon_System/segmentation_pipes/train/labels/M5Sandstorm__part_14.png\n",
      "Saved mask for M5Sandstorm__part_13.png to /disk3/eric/dataset/Weapon_System/segmentation_pipes/train/labels/M5Sandstorm__part_13.png\n",
      "Saved mask for city_part_23.png to /disk3/eric/dataset/Weapon_System/segmentation_pipes/train/labels/city_part_23.png\n",
      "Saved mask for city_part_18.png to /disk3/eric/dataset/Weapon_System/segmentation_pipes/train/labels/city_part_18.png\n",
      "Saved mask for M2A1Slammer2__part_3.png to /disk3/eric/dataset/Weapon_System/segmentation_pipes/train/labels/M2A1Slammer2__part_3.png\n",
      "Saved mask for M2A1Slammer2__part_2.png to /disk3/eric/dataset/Weapon_System/segmentation_pipes/train/labels/M2A1Slammer2__part_2.png\n",
      "Saved mask for city_part_10.png to /disk3/eric/dataset/Weapon_System/segmentation_pipes/train/labels/city_part_10.png\n",
      "Saved mask for city_part_12.png to /disk3/eric/dataset/Weapon_System/segmentation_pipes/train/labels/city_part_12.png\n",
      "Saved mask for Zamak__part_2.png to /disk3/eric/dataset/Weapon_System/segmentation_pipes/train/labels/Zamak__part_2.png\n",
      "Saved mask for M5Sandstorm__part_9.png to /disk3/eric/dataset/Weapon_System/segmentation_pipes/train/labels/M5Sandstorm__part_9.png\n",
      "Saved mask for city_part_24.png to /disk3/eric/dataset/Weapon_System/segmentation_pipes/train/labels/city_part_24.png\n",
      "Saved mask for M2A1Slammer2__part_14.png to /disk3/eric/dataset/Weapon_System/segmentation_pipes/train/labels/M2A1Slammer2__part_14.png\n",
      "Saved mask for M5Sandstorm__part_21.png to /disk3/eric/dataset/Weapon_System/segmentation_pipes/train/labels/M5Sandstorm__part_21.png\n",
      "Saved mask for Zamak__part_17.png to /disk3/eric/dataset/Weapon_System/segmentation_pipes/train/labels/Zamak__part_17.png\n",
      "Saved mask for M5Sandstorm__part_4.png to /disk3/eric/dataset/Weapon_System/segmentation_pipes/train/labels/M5Sandstorm__part_4.png\n",
      "Saved mask for M5Sandstorm__part_19.png to /disk3/eric/dataset/Weapon_System/segmentation_pipes/train/labels/M5Sandstorm__part_19.png\n",
      "Saved mask for T140Angara__part_6.png to /disk3/eric/dataset/Weapon_System/segmentation_pipes/train/labels/T140Angara__part_6.png\n",
      "Saved mask for M2A1Slammer2__part_5.png to /disk3/eric/dataset/Weapon_System/segmentation_pipes/train/labels/M2A1Slammer2__part_5.png\n",
      "Saved mask for M2A1Slammer2__part_4.png to /disk3/eric/dataset/Weapon_System/segmentation_pipes/train/labels/M2A1Slammer2__part_4.png\n",
      "Saved mask for city_part_25.png to /disk3/eric/dataset/Weapon_System/segmentation_pipes/train/labels/city_part_25.png\n",
      "Saved mask for T140Angara__part_16.png to /disk3/eric/dataset/Weapon_System/segmentation_pipes/train/labels/T140Angara__part_16.png\n",
      "Saved mask for Zamak__part_11.png to /disk3/eric/dataset/Weapon_System/segmentation_pipes/train/labels/Zamak__part_11.png\n",
      "Saved mask for city_part_3.png to /disk3/eric/dataset/Weapon_System/segmentation_pipes/train/labels/city_part_3.png\n",
      "Saved mask for M5Sandstorm__part_8.png to /disk3/eric/dataset/Weapon_System/segmentation_pipes/train/labels/M5Sandstorm__part_8.png\n",
      "Saved mask for T140Angara__part_10.png to /disk3/eric/dataset/Weapon_System/segmentation_pipes/train/labels/T140Angara__part_10.png\n",
      "Saved mask for city_part_19.png to /disk3/eric/dataset/Weapon_System/segmentation_pipes/train/labels/city_part_19.png\n",
      "Saved mask for Zamak__part_8.png to /disk3/eric/dataset/Weapon_System/segmentation_pipes/valid/labels/Zamak__part_8.png\n",
      "Saved mask for M2A1Slammer2__part_18.png to /disk3/eric/dataset/Weapon_System/segmentation_pipes/valid/labels/M2A1Slammer2__part_18.png\n",
      "Saved mask for Zamak__part_14.png to /disk3/eric/dataset/Weapon_System/segmentation_pipes/valid/labels/Zamak__part_14.png\n",
      "Saved mask for M2A1Slammer2__part_10.png to /disk3/eric/dataset/Weapon_System/segmentation_pipes/valid/labels/M2A1Slammer2__part_10.png\n",
      "Saved mask for T140Angara__part_11.png to /disk3/eric/dataset/Weapon_System/segmentation_pipes/valid/labels/T140Angara__part_11.png\n",
      "Saved mask for Zamak__part_1.png to /disk3/eric/dataset/Weapon_System/segmentation_pipes/valid/labels/Zamak__part_1.png\n",
      "Saved mask for M2A1Slammer2__part_13.png to /disk3/eric/dataset/Weapon_System/segmentation_pipes/valid/labels/M2A1Slammer2__part_13.png\n",
      "Saved mask for T140Angara__part_18.png to /disk3/eric/dataset/Weapon_System/segmentation_pipes/valid/labels/T140Angara__part_18.png\n",
      "Saved mask for T140Angara__part_24.png to /disk3/eric/dataset/Weapon_System/segmentation_pipes/valid/labels/T140Angara__part_24.png\n",
      "Saved mask for M5Sandstorm__part_1.png to /disk3/eric/dataset/Weapon_System/segmentation_pipes/valid/labels/M5Sandstorm__part_1.png\n",
      "Saved mask for city_part_15.png to /disk3/eric/dataset/Weapon_System/segmentation_pipes/valid/labels/city_part_15.png\n",
      "Saved mask for city_part_8.png to /disk3/eric/dataset/Weapon_System/segmentation_pipes/valid/labels/city_part_8.png\n",
      "Saved mask for T140Angara__part_14.png to /disk3/eric/dataset/Weapon_System/segmentation_pipes/valid/labels/T140Angara__part_14.png\n",
      "Saved mask for M2A1Slammer2__part_20.png to /disk3/eric/dataset/Weapon_System/segmentation_pipes/valid/labels/M2A1Slammer2__part_20.png\n",
      "Saved mask for city_part_14.png to /disk3/eric/dataset/Weapon_System/segmentation_pipes/valid/labels/city_part_14.png\n",
      "Saved mask for M5Sandstorm__part_12.png to /disk3/eric/dataset/Weapon_System/segmentation_pipes/valid/labels/M5Sandstorm__part_12.png\n",
      "Saved mask for M2A1Slammer2__part_16.png to /disk3/eric/dataset/Weapon_System/segmentation_pipes/valid/labels/M2A1Slammer2__part_16.png\n",
      "Saved mask for M5Sandstorm__part_23.png to /disk3/eric/dataset/Weapon_System/segmentation_pipes/valid/labels/M5Sandstorm__part_23.png\n",
      "Saved mask for Zamak__part_20.png to /disk3/eric/dataset/Weapon_System/segmentation_pipes/valid/labels/Zamak__part_20.png\n"
     ]
    },
    {
     "name": "stderr",
     "output_type": "stream",
     "text": [
      "/tmp/ipykernel_1191442/3938214246.py:23: DeprecationWarning: <tifffile.imsave> is deprecated. Use tifffile.imwrite\n",
      "  tifffile.imsave(mask_path, mask_np)\n"
     ]
    }
   ],
   "source": [
    "def create_mask(image_info, annotations, output_folder):\n",
    "    \n",
    "    # Create an empty mask as a numpy array\n",
    "    mask_np = np.zeros((image_info['height'], image_info['width']), dtype=np.uint16)\n",
    "    \n",
    "    for ann in annotations:\n",
    "        if ann['image_id'] == image_info['id']:\n",
    "                #print(\"#----- : \",ann['image_id'])\n",
    "                # Extract segmentation polygon\n",
    "                #ann['category_id'] +=1\n",
    "                category_id = ann['category_id'] \n",
    "                \n",
    "                for idx,seg in enumerate(ann['segmentation']):\n",
    "                    # Convert polygons to a binary mask and add it to the main mask\n",
    "                    rr, cc = skimage.draw.polygon(seg[1::2], seg[0::2], mask_np.shape)\n",
    "                    mask_np[rr, cc] = category_id\n",
    "                    \n",
    "                    #object_number += 1 #We are assigning each object a unique integer value (labeled mask)\n",
    "\n",
    "    # Save the numpy array as a TIFF using tifffile library\n",
    "    #print(image_info['file_name'].split(\".\")[0].replace(\"_png\",\".png\"))\n",
    "    mask_path = os.path.join(output_folder, image_info['file_name'].split(\".\")[0].replace(\"_png\",\".png\"))\n",
    "    tifffile.imsave(mask_path, mask_np)\n",
    "\n",
    "    image_info['file_name'] = image_info['file_name'].split(\".\")[0].replace(\"_png\",\".png\") \n",
    "\n",
    "    #----\n",
    "\n",
    "    print(f\"Saved mask for {image_info['file_name']} to {mask_path}\")\n",
    "\n",
    "    return annotations\n",
    "\n",
    "#--- train\n",
    "with open(train_ann_dir, 'r') as f:\n",
    "    data = json.load(f)\n",
    "images = data['images']\n",
    "annotations = data['annotations']\n",
    "\n",
    "for img in images:\n",
    "    # Create the masks\n",
    "    create_mask(img, annotations, train_mask_dir)\n",
    "#--- valid\n",
    "with open(valid_ann_dir, 'r') as f:\n",
    "    data = json.load(f)\n",
    "images = data['images']\n",
    "annotations = data['annotations']\n",
    "\n",
    "for img in images:\n",
    "    # Create the masks\n",
    "    create_mask(img, annotations, valid_mask_dir)"
   ]
  }
 ],
 "metadata": {
  "kernelspec": {
   "display_name": "trex",
   "language": "python",
   "name": "python3"
  },
  "language_info": {
   "codemirror_mode": {
    "name": "ipython",
    "version": 3
   },
   "file_extension": ".py",
   "mimetype": "text/x-python",
   "name": "python",
   "nbconvert_exporter": "python",
   "pygments_lexer": "ipython3",
   "version": "3.9.12"
  }
 },
 "nbformat": 4,
 "nbformat_minor": 2
}
