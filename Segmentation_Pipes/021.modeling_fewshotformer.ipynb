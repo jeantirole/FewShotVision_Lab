{
 "cells": [
  {
   "cell_type": "code",
   "execution_count": 16,
   "metadata": {},
   "outputs": [],
   "source": [
    "from custom_dataset.segdataset import InstanceSegmentationDataset\n",
    "from torch.utils.data import DataLoader\n",
    "import json\n",
    "\n",
    "import torch\n",
    "from torch import nn\n",
    "from sklearn.metrics import accuracy_score\n",
    "from tqdm.notebook import tqdm\n",
    "import os\n",
    "import evaluate\n",
    "import logging\n",
    "from utils import rs_utils\n",
    "from datetime import datetime\n",
    "from transformers import SegformerImageProcessor"
   ]
  },
  {
   "cell_type": "code",
   "execution_count": 17,
   "metadata": {},
   "outputs": [],
   "source": [
    "#--- root \n",
    "root_dir = '/disk3/eric/dataset/Weapon_System/segmentation_pipes'\n",
    "\n",
    "#--- time\n",
    "current_time = datetime.now()\n",
    "formatted_time = current_time.strftime(\"%Y-%m-%d %H:%M:%S\")"
   ]
  },
  {
   "cell_type": "code",
   "execution_count": 20,
   "metadata": {},
   "outputs": [],
   "source": [
    "#-----------\n",
    "_VERSION = \"050\"\n",
    "_EPOCHS = 50\n",
    "_MODEL_SAVE = False\n",
    "_MODEL_VERSION = \"nvidia/mit-b5\"\n",
    "_MODEL_VERSION_SAVE = _MODEL_VERSION.split(\"/\")[-1]\n",
    "_BATCH_SIZE = 2\n",
    "_DEVICE = \"cuda:1\"\n",
    "#----------"
   ]
  },
  {
   "cell_type": "code",
   "execution_count": 21,
   "metadata": {},
   "outputs": [],
   "source": [
    "# Set up a logger\n",
    "log_dir = \"/home/eric/srcs/FewShotSeg_Lab/FewShotVision_Lab/Segmentation_Pipes/logs\"\n",
    "os.makedirs(log_dir, exist_ok=True)\n",
    "current_time = datetime.now()\n",
    "formatted_time = current_time.strftime(\"%Y-%m-%d %H:%M:%S\")\n",
    "log_file_path = os.path.join(log_dir, f\"Version_{_VERSION}_{_MODEL_VERSION_SAVE}_{formatted_time}.log\")\n",
    "logger = rs_utils.setup_logger(\"FewShotSeg\", log_file_path, level=logging.INFO)"
   ]
  },
  {
   "cell_type": "code",
   "execution_count": 22,
   "metadata": {},
   "outputs": [],
   "source": [
    "json_file = '/disk3/eric/dataset/VISION_SOFS/WEAPON_5/segmentation_pipe/train/_annotations.coco.json'\n",
    "with open(json_file, 'r') as f:\n",
    "    data = json.load(f)\n",
    "#--- \n",
    "id2label = {\n",
    "    0:data['categories'][0]['name'],\n",
    "    1:data['categories'][1]['name'],\n",
    "    2:data['categories'][2]['name'],\n",
    "    3:data['categories'][3]['name'],\n",
    "    4:data['categories'][4]['name']\n",
    "}\n",
    "id2label[0] = \"background\"\n",
    "label2id = {v: k for k, v in id2label.items()}"
   ]
  },
  {
   "cell_type": "code",
   "execution_count": 23,
   "metadata": {},
   "outputs": [
    {
     "data": {
      "text/plain": [
       "{'background': 0,\n",
       " 'M2A1Slammer': 1,\n",
       " 'M5SandstormMLRS': 2,\n",
       " 'T140Angara': 3,\n",
       " 'ZamakMRL': 4}"
      ]
     },
     "execution_count": 23,
     "metadata": {},
     "output_type": "execute_result"
    }
   ],
   "source": [
    "label2id"
   ]
  },
  {
   "cell_type": "code",
   "execution_count": 24,
   "metadata": {},
   "outputs": [],
   "source": [
    "# for fewshot\n",
    "id2label = {\n",
    "    0:\"background\",\n",
    "    1:\"object\"\n",
    "}\n",
    "label2id = {v: k for k, v in id2label.items()}"
   ]
  },
  {
   "cell_type": "code",
   "execution_count": 25,
   "metadata": {},
   "outputs": [
    {
     "name": "stdout",
     "output_type": "stream",
     "text": [
      "[('Zamak__part_21.png', 'city_part_4.png'), ('Zamak__part_21.png', 'city_part_9.png'), ('Zamak__part_21.png', 'city_part_13.png'), ('Zamak__part_21.png', 'city_part_10.png'), ('Zamak__part_21.png', 'city_part_24.png'), ('Zamak__part_21.png', 'city_part_3.png'), ('Zamak__part_21.png', 'city_part_19.png'), ('M2A1Slammer2__part_24.png', 'city_part_4.png'), ('M2A1Slammer2__part_24.png', 'city_part_9.png'), ('M2A1Slammer2__part_24.png', 'city_part_13.png'), ('M2A1Slammer2__part_24.png', 'city_part_10.png'), ('M2A1Slammer2__part_24.png', 'city_part_24.png'), ('M2A1Slammer2__part_24.png', 'city_part_3.png'), ('M2A1Slammer2__part_24.png', 'city_part_19.png'), ('Zamak__part_18.png', 'city_part_4.png'), ('Zamak__part_18.png', 'city_part_9.png'), ('Zamak__part_18.png', 'city_part_13.png'), ('Zamak__part_18.png', 'city_part_10.png'), ('Zamak__part_18.png', 'city_part_24.png'), ('Zamak__part_18.png', 'city_part_3.png'), ('Zamak__part_18.png', 'city_part_19.png'), ('M5Sandstorm__part_17.png', 'city_part_4.png'), ('M5Sandstorm__part_17.png', 'city_part_9.png'), ('M5Sandstorm__part_17.png', 'city_part_13.png'), ('M5Sandstorm__part_17.png', 'city_part_10.png'), ('M5Sandstorm__part_17.png', 'city_part_24.png'), ('M5Sandstorm__part_17.png', 'city_part_3.png'), ('M5Sandstorm__part_17.png', 'city_part_19.png'), ('T140Angara__part_8.png', 'city_part_4.png'), ('T140Angara__part_8.png', 'city_part_9.png'), ('T140Angara__part_8.png', 'city_part_13.png'), ('T140Angara__part_8.png', 'city_part_10.png'), ('T140Angara__part_8.png', 'city_part_24.png'), ('T140Angara__part_8.png', 'city_part_3.png'), ('T140Angara__part_8.png', 'city_part_19.png'), ('city_part_5.png', 'city_part_4.png'), ('city_part_5.png', 'city_part_9.png'), ('city_part_5.png', 'city_part_13.png'), ('city_part_5.png', 'city_part_10.png'), ('city_part_5.png', 'city_part_24.png'), ('city_part_5.png', 'city_part_3.png'), ('city_part_5.png', 'city_part_19.png'), ('M2A1Slammer2__part_23.png', 'city_part_4.png'), ('M2A1Slammer2__part_23.png', 'city_part_9.png'), ('M2A1Slammer2__part_23.png', 'city_part_13.png'), ('M2A1Slammer2__part_23.png', 'city_part_10.png'), ('M2A1Slammer2__part_23.png', 'city_part_24.png'), ('M2A1Slammer2__part_23.png', 'city_part_3.png'), ('M2A1Slammer2__part_23.png', 'city_part_19.png'), ('Zamak__part_23.png', 'city_part_4.png'), ('Zamak__part_23.png', 'city_part_9.png'), ('Zamak__part_23.png', 'city_part_13.png'), ('Zamak__part_23.png', 'city_part_10.png'), ('Zamak__part_23.png', 'city_part_24.png'), ('Zamak__part_23.png', 'city_part_3.png'), ('Zamak__part_23.png', 'city_part_19.png'), ('M2A1Slammer2__part_11.png', 'city_part_4.png'), ('M2A1Slammer2__part_11.png', 'city_part_9.png'), ('M2A1Slammer2__part_11.png', 'city_part_13.png'), ('M2A1Slammer2__part_11.png', 'city_part_10.png'), ('M2A1Slammer2__part_11.png', 'city_part_24.png'), ('M2A1Slammer2__part_11.png', 'city_part_3.png'), ('M2A1Slammer2__part_11.png', 'city_part_19.png'), ('Zamak__part_9.png', 'city_part_4.png'), ('Zamak__part_9.png', 'city_part_9.png'), ('Zamak__part_9.png', 'city_part_13.png'), ('Zamak__part_9.png', 'city_part_10.png'), ('Zamak__part_9.png', 'city_part_24.png'), ('Zamak__part_9.png', 'city_part_3.png'), ('Zamak__part_9.png', 'city_part_19.png'), ('Zamak__part_12.png', 'city_part_4.png'), ('Zamak__part_12.png', 'city_part_9.png'), ('Zamak__part_12.png', 'city_part_13.png'), ('Zamak__part_12.png', 'city_part_10.png'), ('Zamak__part_12.png', 'city_part_24.png'), ('Zamak__part_12.png', 'city_part_3.png'), ('Zamak__part_12.png', 'city_part_19.png'), ('M5Sandstorm__part_18.png', 'city_part_4.png'), ('M5Sandstorm__part_18.png', 'city_part_9.png'), ('M5Sandstorm__part_18.png', 'city_part_13.png'), ('M5Sandstorm__part_18.png', 'city_part_10.png'), ('M5Sandstorm__part_18.png', 'city_part_24.png'), ('M5Sandstorm__part_18.png', 'city_part_3.png'), ('M5Sandstorm__part_18.png', 'city_part_19.png'), ('T140Angara__part_15.png', 'city_part_4.png'), ('T140Angara__part_15.png', 'city_part_9.png'), ('T140Angara__part_15.png', 'city_part_13.png'), ('T140Angara__part_15.png', 'city_part_10.png'), ('T140Angara__part_15.png', 'city_part_24.png'), ('T140Angara__part_15.png', 'city_part_3.png'), ('T140Angara__part_15.png', 'city_part_19.png'), ('T140Angara__part_19.png', 'city_part_4.png'), ('T140Angara__part_19.png', 'city_part_9.png'), ('T140Angara__part_19.png', 'city_part_13.png'), ('T140Angara__part_19.png', 'city_part_10.png'), ('T140Angara__part_19.png', 'city_part_24.png'), ('T140Angara__part_19.png', 'city_part_3.png'), ('T140Angara__part_19.png', 'city_part_19.png'), ('M5Sandstorm__part_25.png', 'city_part_4.png'), ('M5Sandstorm__part_25.png', 'city_part_9.png'), ('M5Sandstorm__part_25.png', 'city_part_13.png'), ('M5Sandstorm__part_25.png', 'city_part_10.png'), ('M5Sandstorm__part_25.png', 'city_part_24.png'), ('M5Sandstorm__part_25.png', 'city_part_3.png'), ('M5Sandstorm__part_25.png', 'city_part_19.png'), ('M2A1Slammer2__part_9.png', 'city_part_4.png'), ('M2A1Slammer2__part_9.png', 'city_part_9.png'), ('M2A1Slammer2__part_9.png', 'city_part_13.png'), ('M2A1Slammer2__part_9.png', 'city_part_10.png'), ('M2A1Slammer2__part_9.png', 'city_part_24.png'), ('M2A1Slammer2__part_9.png', 'city_part_3.png'), ('M2A1Slammer2__part_9.png', 'city_part_19.png'), ('M2A1Slammer2__part_17.png', 'city_part_4.png'), ('M2A1Slammer2__part_17.png', 'city_part_9.png'), ('M2A1Slammer2__part_17.png', 'city_part_13.png'), ('M2A1Slammer2__part_17.png', 'city_part_10.png'), ('M2A1Slammer2__part_17.png', 'city_part_24.png'), ('M2A1Slammer2__part_17.png', 'city_part_3.png'), ('M2A1Slammer2__part_17.png', 'city_part_19.png'), ('T140Angara__part_20.png', 'city_part_4.png'), ('T140Angara__part_20.png', 'city_part_9.png'), ('T140Angara__part_20.png', 'city_part_13.png'), ('T140Angara__part_20.png', 'city_part_10.png'), ('T140Angara__part_20.png', 'city_part_24.png'), ('T140Angara__part_20.png', 'city_part_3.png'), ('T140Angara__part_20.png', 'city_part_19.png'), ('Zamak__part_7.png', 'city_part_4.png'), ('Zamak__part_7.png', 'city_part_9.png'), ('Zamak__part_7.png', 'city_part_13.png'), ('Zamak__part_7.png', 'city_part_10.png'), ('Zamak__part_7.png', 'city_part_24.png'), ('Zamak__part_7.png', 'city_part_3.png'), ('Zamak__part_7.png', 'city_part_19.png'), ('M5Sandstorm__part_16.png', 'city_part_4.png'), ('M5Sandstorm__part_16.png', 'city_part_9.png'), ('M5Sandstorm__part_16.png', 'city_part_13.png'), ('M5Sandstorm__part_16.png', 'city_part_10.png'), ('M5Sandstorm__part_16.png', 'city_part_24.png'), ('M5Sandstorm__part_16.png', 'city_part_3.png'), ('M5Sandstorm__part_16.png', 'city_part_19.png'), ('M5Sandstorm__part_11.png', 'city_part_4.png'), ('M5Sandstorm__part_11.png', 'city_part_9.png'), ('M5Sandstorm__part_11.png', 'city_part_13.png'), ('M5Sandstorm__part_11.png', 'city_part_10.png'), ('M5Sandstorm__part_11.png', 'city_part_24.png'), ('M5Sandstorm__part_11.png', 'city_part_3.png'), ('M5Sandstorm__part_11.png', 'city_part_19.png'), ('T140Angara__part_9.png', 'city_part_4.png'), ('T140Angara__part_9.png', 'city_part_9.png'), ('T140Angara__part_9.png', 'city_part_13.png'), ('T140Angara__part_9.png', 'city_part_10.png'), ('T140Angara__part_9.png', 'city_part_24.png'), ('T140Angara__part_9.png', 'city_part_3.png'), ('T140Angara__part_9.png', 'city_part_19.png'), ('T140Angara__part_12.png', 'city_part_4.png'), ('T140Angara__part_12.png', 'city_part_9.png'), ('T140Angara__part_12.png', 'city_part_13.png'), ('T140Angara__part_12.png', 'city_part_10.png'), ('T140Angara__part_12.png', 'city_part_24.png'), ('T140Angara__part_12.png', 'city_part_3.png'), ('T140Angara__part_12.png', 'city_part_19.png'), ('T140Angara__part_25.png', 'city_part_4.png'), ('T140Angara__part_25.png', 'city_part_9.png'), ('T140Angara__part_25.png', 'city_part_13.png'), ('T140Angara__part_25.png', 'city_part_10.png'), ('T140Angara__part_25.png', 'city_part_24.png'), ('T140Angara__part_25.png', 'city_part_3.png'), ('T140Angara__part_25.png', 'city_part_19.png'), ('T140Angara__part_4.png', 'city_part_4.png'), ('T140Angara__part_4.png', 'city_part_9.png'), ('T140Angara__part_4.png', 'city_part_13.png'), ('T140Angara__part_4.png', 'city_part_10.png'), ('T140Angara__part_4.png', 'city_part_24.png'), ('T140Angara__part_4.png', 'city_part_3.png'), ('T140Angara__part_4.png', 'city_part_19.png'), ('T140Angara__part_13.png', 'city_part_4.png'), ('T140Angara__part_13.png', 'city_part_9.png'), ('T140Angara__part_13.png', 'city_part_13.png'), ('T140Angara__part_13.png', 'city_part_10.png'), ('T140Angara__part_13.png', 'city_part_24.png'), ('T140Angara__part_13.png', 'city_part_3.png'), ('T140Angara__part_13.png', 'city_part_19.png'), ('M2A1Slammer2__part_25.png', 'city_part_4.png'), ('M2A1Slammer2__part_25.png', 'city_part_9.png'), ('M2A1Slammer2__part_25.png', 'city_part_13.png'), ('M2A1Slammer2__part_25.png', 'city_part_10.png'), ('M2A1Slammer2__part_25.png', 'city_part_24.png'), ('M2A1Slammer2__part_25.png', 'city_part_3.png'), ('M2A1Slammer2__part_25.png', 'city_part_19.png'), ('T140Angara__part_23.png', 'city_part_4.png'), ('T140Angara__part_23.png', 'city_part_9.png'), ('T140Angara__part_23.png', 'city_part_13.png'), ('T140Angara__part_23.png', 'city_part_10.png'), ('T140Angara__part_23.png', 'city_part_24.png'), ('T140Angara__part_23.png', 'city_part_3.png'), ('T140Angara__part_23.png', 'city_part_19.png'), ('Zamak__part_3.png', 'city_part_4.png'), ('Zamak__part_3.png', 'city_part_9.png'), ('Zamak__part_3.png', 'city_part_13.png'), ('Zamak__part_3.png', 'city_part_10.png'), ('Zamak__part_3.png', 'city_part_24.png'), ('Zamak__part_3.png', 'city_part_3.png'), ('Zamak__part_3.png', 'city_part_19.png'), ('Zamak__part_10.png', 'city_part_4.png'), ('Zamak__part_10.png', 'city_part_9.png'), ('Zamak__part_10.png', 'city_part_13.png'), ('Zamak__part_10.png', 'city_part_10.png'), ('Zamak__part_10.png', 'city_part_24.png'), ('Zamak__part_10.png', 'city_part_3.png'), ('Zamak__part_10.png', 'city_part_19.png'), ('T140Angara__part_22.png', 'city_part_4.png'), ('T140Angara__part_22.png', 'city_part_9.png'), ('T140Angara__part_22.png', 'city_part_13.png'), ('T140Angara__part_22.png', 'city_part_10.png'), ('T140Angara__part_22.png', 'city_part_24.png'), ('T140Angara__part_22.png', 'city_part_3.png'), ('T140Angara__part_22.png', 'city_part_19.png'), ('T140Angara__part_5.png', 'city_part_4.png'), ('T140Angara__part_5.png', 'city_part_9.png'), ('T140Angara__part_5.png', 'city_part_13.png'), ('T140Angara__part_5.png', 'city_part_10.png'), ('T140Angara__part_5.png', 'city_part_24.png'), ('T140Angara__part_5.png', 'city_part_3.png'), ('T140Angara__part_5.png', 'city_part_19.png'), ('Zamak__part_4.png', 'city_part_4.png'), ('Zamak__part_4.png', 'city_part_9.png'), ('Zamak__part_4.png', 'city_part_13.png'), ('Zamak__part_4.png', 'city_part_10.png'), ('Zamak__part_4.png', 'city_part_24.png'), ('Zamak__part_4.png', 'city_part_3.png'), ('Zamak__part_4.png', 'city_part_19.png'), ('T140Angara__part_7.png', 'city_part_4.png'), ('T140Angara__part_7.png', 'city_part_9.png'), ('T140Angara__part_7.png', 'city_part_13.png'), ('T140Angara__part_7.png', 'city_part_10.png'), ('T140Angara__part_7.png', 'city_part_24.png'), ('T140Angara__part_7.png', 'city_part_3.png'), ('T140Angara__part_7.png', 'city_part_19.png'), ('T140Angara__part_17.png', 'city_part_4.png'), ('T140Angara__part_17.png', 'city_part_9.png'), ('T140Angara__part_17.png', 'city_part_13.png'), ('T140Angara__part_17.png', 'city_part_10.png'), ('T140Angara__part_17.png', 'city_part_24.png'), ('T140Angara__part_17.png', 'city_part_3.png'), ('T140Angara__part_17.png', 'city_part_19.png'), ('M5Sandstorm__part_7.png', 'city_part_4.png'), ('M5Sandstorm__part_7.png', 'city_part_9.png'), ('M5Sandstorm__part_7.png', 'city_part_13.png'), ('M5Sandstorm__part_7.png', 'city_part_10.png'), ('M5Sandstorm__part_7.png', 'city_part_24.png'), ('M5Sandstorm__part_7.png', 'city_part_3.png'), ('M5Sandstorm__part_7.png', 'city_part_19.png'), ('T140Angara__part_21.png', 'city_part_4.png'), ('T140Angara__part_21.png', 'city_part_9.png'), ('T140Angara__part_21.png', 'city_part_13.png'), ('T140Angara__part_21.png', 'city_part_10.png'), ('T140Angara__part_21.png', 'city_part_24.png'), ('T140Angara__part_21.png', 'city_part_3.png'), ('T140Angara__part_21.png', 'city_part_19.png'), ('M2A1Slammer2__part_1.png', 'city_part_4.png'), ('M2A1Slammer2__part_1.png', 'city_part_9.png'), ('M2A1Slammer2__part_1.png', 'city_part_13.png'), ('M2A1Slammer2__part_1.png', 'city_part_10.png'), ('M2A1Slammer2__part_1.png', 'city_part_24.png'), ('M2A1Slammer2__part_1.png', 'city_part_3.png'), ('M2A1Slammer2__part_1.png', 'city_part_19.png'), ('Zamak__part_24.png', 'city_part_4.png'), ('Zamak__part_24.png', 'city_part_9.png'), ('Zamak__part_24.png', 'city_part_13.png'), ('Zamak__part_24.png', 'city_part_10.png'), ('Zamak__part_24.png', 'city_part_24.png'), ('Zamak__part_24.png', 'city_part_3.png'), ('Zamak__part_24.png', 'city_part_19.png'), ('M2A1Slammer2__part_12.png', 'city_part_4.png'), ('M2A1Slammer2__part_12.png', 'city_part_9.png'), ('M2A1Slammer2__part_12.png', 'city_part_13.png'), ('M2A1Slammer2__part_12.png', 'city_part_10.png'), ('M2A1Slammer2__part_12.png', 'city_part_24.png'), ('M2A1Slammer2__part_12.png', 'city_part_3.png'), ('M2A1Slammer2__part_12.png', 'city_part_19.png'), ('M5Sandstorm__part_24.png', 'city_part_4.png'), ('M5Sandstorm__part_24.png', 'city_part_9.png'), ('M5Sandstorm__part_24.png', 'city_part_13.png'), ('M5Sandstorm__part_24.png', 'city_part_10.png'), ('M5Sandstorm__part_24.png', 'city_part_24.png'), ('M5Sandstorm__part_24.png', 'city_part_3.png'), ('M5Sandstorm__part_24.png', 'city_part_19.png'), ('M2A1Slammer2__part_19.png', 'city_part_4.png'), ('M2A1Slammer2__part_19.png', 'city_part_9.png'), ('M2A1Slammer2__part_19.png', 'city_part_13.png'), ('M2A1Slammer2__part_19.png', 'city_part_10.png'), ('M2A1Slammer2__part_19.png', 'city_part_24.png'), ('M2A1Slammer2__part_19.png', 'city_part_3.png'), ('M2A1Slammer2__part_19.png', 'city_part_19.png'), ('M5Sandstorm__part_20.png', 'city_part_4.png'), ('M5Sandstorm__part_20.png', 'city_part_9.png'), ('M5Sandstorm__part_20.png', 'city_part_13.png'), ('M5Sandstorm__part_20.png', 'city_part_10.png'), ('M5Sandstorm__part_20.png', 'city_part_24.png'), ('M5Sandstorm__part_20.png', 'city_part_3.png'), ('M5Sandstorm__part_20.png', 'city_part_19.png'), ('Zamak__part_16.png', 'city_part_4.png'), ('Zamak__part_16.png', 'city_part_9.png'), ('Zamak__part_16.png', 'city_part_13.png'), ('Zamak__part_16.png', 'city_part_10.png'), ('Zamak__part_16.png', 'city_part_24.png'), ('Zamak__part_16.png', 'city_part_3.png'), ('Zamak__part_16.png', 'city_part_19.png'), ('M2A1Slammer2__part_21.png', 'city_part_4.png'), ('M2A1Slammer2__part_21.png', 'city_part_9.png'), ('M2A1Slammer2__part_21.png', 'city_part_13.png'), ('M2A1Slammer2__part_21.png', 'city_part_10.png'), ('M2A1Slammer2__part_21.png', 'city_part_24.png'), ('M2A1Slammer2__part_21.png', 'city_part_3.png'), ('M2A1Slammer2__part_21.png', 'city_part_19.png'), ('T140Angara__part_1.png', 'city_part_4.png'), ('T140Angara__part_1.png', 'city_part_9.png'), ('T140Angara__part_1.png', 'city_part_13.png'), ('T140Angara__part_1.png', 'city_part_10.png'), ('T140Angara__part_1.png', 'city_part_24.png'), ('T140Angara__part_1.png', 'city_part_3.png'), ('T140Angara__part_1.png', 'city_part_19.png'), ('M2A1Slammer2__part_15.png', 'city_part_4.png'), ('M2A1Slammer2__part_15.png', 'city_part_9.png'), ('M2A1Slammer2__part_15.png', 'city_part_13.png'), ('M2A1Slammer2__part_15.png', 'city_part_10.png'), ('M2A1Slammer2__part_15.png', 'city_part_24.png'), ('M2A1Slammer2__part_15.png', 'city_part_3.png'), ('M2A1Slammer2__part_15.png', 'city_part_19.png'), ('Zamak__part_13.png', 'city_part_4.png'), ('Zamak__part_13.png', 'city_part_9.png'), ('Zamak__part_13.png', 'city_part_13.png'), ('Zamak__part_13.png', 'city_part_10.png'), ('Zamak__part_13.png', 'city_part_24.png'), ('Zamak__part_13.png', 'city_part_3.png'), ('Zamak__part_13.png', 'city_part_19.png'), ('M5Sandstorm__part_14.png', 'city_part_4.png'), ('M5Sandstorm__part_14.png', 'city_part_9.png'), ('M5Sandstorm__part_14.png', 'city_part_13.png'), ('M5Sandstorm__part_14.png', 'city_part_10.png'), ('M5Sandstorm__part_14.png', 'city_part_24.png'), ('M5Sandstorm__part_14.png', 'city_part_3.png'), ('M5Sandstorm__part_14.png', 'city_part_19.png'), ('M5Sandstorm__part_13.png', 'city_part_4.png'), ('M5Sandstorm__part_13.png', 'city_part_9.png'), ('M5Sandstorm__part_13.png', 'city_part_13.png'), ('M5Sandstorm__part_13.png', 'city_part_10.png'), ('M5Sandstorm__part_13.png', 'city_part_24.png'), ('M5Sandstorm__part_13.png', 'city_part_3.png'), ('M5Sandstorm__part_13.png', 'city_part_19.png'), ('city_part_23.png', 'city_part_4.png'), ('city_part_23.png', 'city_part_9.png'), ('city_part_23.png', 'city_part_13.png'), ('city_part_23.png', 'city_part_10.png'), ('city_part_23.png', 'city_part_24.png'), ('city_part_23.png', 'city_part_3.png'), ('city_part_23.png', 'city_part_19.png'), ('city_part_18.png', 'city_part_4.png'), ('city_part_18.png', 'city_part_9.png'), ('city_part_18.png', 'city_part_13.png'), ('city_part_18.png', 'city_part_10.png'), ('city_part_18.png', 'city_part_24.png'), ('city_part_18.png', 'city_part_3.png'), ('city_part_18.png', 'city_part_19.png'), ('M2A1Slammer2__part_3.png', 'city_part_4.png'), ('M2A1Slammer2__part_3.png', 'city_part_9.png'), ('M2A1Slammer2__part_3.png', 'city_part_13.png'), ('M2A1Slammer2__part_3.png', 'city_part_10.png'), ('M2A1Slammer2__part_3.png', 'city_part_24.png'), ('M2A1Slammer2__part_3.png', 'city_part_3.png'), ('M2A1Slammer2__part_3.png', 'city_part_19.png'), ('M2A1Slammer2__part_2.png', 'city_part_4.png'), ('M2A1Slammer2__part_2.png', 'city_part_9.png'), ('M2A1Slammer2__part_2.png', 'city_part_13.png'), ('M2A1Slammer2__part_2.png', 'city_part_10.png'), ('M2A1Slammer2__part_2.png', 'city_part_24.png'), ('M2A1Slammer2__part_2.png', 'city_part_3.png'), ('M2A1Slammer2__part_2.png', 'city_part_19.png'), ('city_part_12.png', 'city_part_4.png'), ('city_part_12.png', 'city_part_9.png'), ('city_part_12.png', 'city_part_13.png'), ('city_part_12.png', 'city_part_10.png'), ('city_part_12.png', 'city_part_24.png'), ('city_part_12.png', 'city_part_3.png'), ('city_part_12.png', 'city_part_19.png'), ('Zamak__part_2.png', 'city_part_4.png'), ('Zamak__part_2.png', 'city_part_9.png'), ('Zamak__part_2.png', 'city_part_13.png'), ('Zamak__part_2.png', 'city_part_10.png'), ('Zamak__part_2.png', 'city_part_24.png'), ('Zamak__part_2.png', 'city_part_3.png'), ('Zamak__part_2.png', 'city_part_19.png'), ('M5Sandstorm__part_9.png', 'city_part_4.png'), ('M5Sandstorm__part_9.png', 'city_part_9.png'), ('M5Sandstorm__part_9.png', 'city_part_13.png'), ('M5Sandstorm__part_9.png', 'city_part_10.png'), ('M5Sandstorm__part_9.png', 'city_part_24.png'), ('M5Sandstorm__part_9.png', 'city_part_3.png'), ('M5Sandstorm__part_9.png', 'city_part_19.png'), ('M2A1Slammer2__part_14.png', 'city_part_4.png'), ('M2A1Slammer2__part_14.png', 'city_part_9.png'), ('M2A1Slammer2__part_14.png', 'city_part_13.png'), ('M2A1Slammer2__part_14.png', 'city_part_10.png'), ('M2A1Slammer2__part_14.png', 'city_part_24.png'), ('M2A1Slammer2__part_14.png', 'city_part_3.png'), ('M2A1Slammer2__part_14.png', 'city_part_19.png'), ('M5Sandstorm__part_21.png', 'city_part_4.png'), ('M5Sandstorm__part_21.png', 'city_part_9.png'), ('M5Sandstorm__part_21.png', 'city_part_13.png'), ('M5Sandstorm__part_21.png', 'city_part_10.png'), ('M5Sandstorm__part_21.png', 'city_part_24.png'), ('M5Sandstorm__part_21.png', 'city_part_3.png'), ('M5Sandstorm__part_21.png', 'city_part_19.png'), ('Zamak__part_17.png', 'city_part_4.png'), ('Zamak__part_17.png', 'city_part_9.png'), ('Zamak__part_17.png', 'city_part_13.png'), ('Zamak__part_17.png', 'city_part_10.png'), ('Zamak__part_17.png', 'city_part_24.png'), ('Zamak__part_17.png', 'city_part_3.png'), ('Zamak__part_17.png', 'city_part_19.png'), ('M5Sandstorm__part_4.png', 'city_part_4.png'), ('M5Sandstorm__part_4.png', 'city_part_9.png'), ('M5Sandstorm__part_4.png', 'city_part_13.png'), ('M5Sandstorm__part_4.png', 'city_part_10.png'), ('M5Sandstorm__part_4.png', 'city_part_24.png'), ('M5Sandstorm__part_4.png', 'city_part_3.png'), ('M5Sandstorm__part_4.png', 'city_part_19.png'), ('M5Sandstorm__part_19.png', 'city_part_4.png'), ('M5Sandstorm__part_19.png', 'city_part_9.png'), ('M5Sandstorm__part_19.png', 'city_part_13.png'), ('M5Sandstorm__part_19.png', 'city_part_10.png'), ('M5Sandstorm__part_19.png', 'city_part_24.png'), ('M5Sandstorm__part_19.png', 'city_part_3.png'), ('M5Sandstorm__part_19.png', 'city_part_19.png'), ('T140Angara__part_6.png', 'city_part_4.png'), ('T140Angara__part_6.png', 'city_part_9.png'), ('T140Angara__part_6.png', 'city_part_13.png'), ('T140Angara__part_6.png', 'city_part_10.png'), ('T140Angara__part_6.png', 'city_part_24.png'), ('T140Angara__part_6.png', 'city_part_3.png'), ('T140Angara__part_6.png', 'city_part_19.png'), ('M2A1Slammer2__part_5.png', 'city_part_4.png'), ('M2A1Slammer2__part_5.png', 'city_part_9.png'), ('M2A1Slammer2__part_5.png', 'city_part_13.png'), ('M2A1Slammer2__part_5.png', 'city_part_10.png'), ('M2A1Slammer2__part_5.png', 'city_part_24.png'), ('M2A1Slammer2__part_5.png', 'city_part_3.png'), ('M2A1Slammer2__part_5.png', 'city_part_19.png'), ('M2A1Slammer2__part_4.png', 'city_part_4.png'), ('M2A1Slammer2__part_4.png', 'city_part_9.png'), ('M2A1Slammer2__part_4.png', 'city_part_13.png'), ('M2A1Slammer2__part_4.png', 'city_part_10.png'), ('M2A1Slammer2__part_4.png', 'city_part_24.png'), ('M2A1Slammer2__part_4.png', 'city_part_3.png'), ('M2A1Slammer2__part_4.png', 'city_part_19.png'), ('city_part_25.png', 'city_part_4.png'), ('city_part_25.png', 'city_part_9.png'), ('city_part_25.png', 'city_part_13.png'), ('city_part_25.png', 'city_part_10.png'), ('city_part_25.png', 'city_part_24.png'), ('city_part_25.png', 'city_part_3.png'), ('city_part_25.png', 'city_part_19.png'), ('T140Angara__part_16.png', 'city_part_4.png'), ('T140Angara__part_16.png', 'city_part_9.png'), ('T140Angara__part_16.png', 'city_part_13.png'), ('T140Angara__part_16.png', 'city_part_10.png'), ('T140Angara__part_16.png', 'city_part_24.png'), ('T140Angara__part_16.png', 'city_part_3.png'), ('T140Angara__part_16.png', 'city_part_19.png'), ('Zamak__part_11.png', 'city_part_4.png'), ('Zamak__part_11.png', 'city_part_9.png'), ('Zamak__part_11.png', 'city_part_13.png'), ('Zamak__part_11.png', 'city_part_10.png'), ('Zamak__part_11.png', 'city_part_24.png'), ('Zamak__part_11.png', 'city_part_3.png'), ('Zamak__part_11.png', 'city_part_19.png'), ('M5Sandstorm__part_8.png', 'city_part_4.png'), ('M5Sandstorm__part_8.png', 'city_part_9.png'), ('M5Sandstorm__part_8.png', 'city_part_13.png'), ('M5Sandstorm__part_8.png', 'city_part_10.png'), ('M5Sandstorm__part_8.png', 'city_part_24.png'), ('M5Sandstorm__part_8.png', 'city_part_3.png'), ('M5Sandstorm__part_8.png', 'city_part_19.png'), ('T140Angara__part_10.png', 'city_part_4.png'), ('T140Angara__part_10.png', 'city_part_9.png'), ('T140Angara__part_10.png', 'city_part_13.png'), ('T140Angara__part_10.png', 'city_part_10.png'), ('T140Angara__part_10.png', 'city_part_24.png'), ('T140Angara__part_10.png', 'city_part_3.png'), ('T140Angara__part_10.png', 'city_part_19.png')]\n",
      "[('Zamak__part_8.png', 'city_part_15.png'), ('Zamak__part_8.png', 'city_part_8.png'), ('Zamak__part_8.png', 'city_part_14.png'), ('M2A1Slammer2__part_18.png', 'city_part_15.png'), ('M2A1Slammer2__part_18.png', 'city_part_8.png'), ('M2A1Slammer2__part_18.png', 'city_part_14.png'), ('Zamak__part_14.png', 'city_part_15.png'), ('Zamak__part_14.png', 'city_part_8.png'), ('Zamak__part_14.png', 'city_part_14.png'), ('M2A1Slammer2__part_10.png', 'city_part_15.png'), ('M2A1Slammer2__part_10.png', 'city_part_8.png'), ('M2A1Slammer2__part_10.png', 'city_part_14.png'), ('T140Angara__part_11.png', 'city_part_15.png'), ('T140Angara__part_11.png', 'city_part_8.png'), ('T140Angara__part_11.png', 'city_part_14.png'), ('Zamak__part_1.png', 'city_part_15.png'), ('Zamak__part_1.png', 'city_part_8.png'), ('Zamak__part_1.png', 'city_part_14.png'), ('M2A1Slammer2__part_13.png', 'city_part_15.png'), ('M2A1Slammer2__part_13.png', 'city_part_8.png'), ('M2A1Slammer2__part_13.png', 'city_part_14.png'), ('T140Angara__part_18.png', 'city_part_15.png'), ('T140Angara__part_18.png', 'city_part_8.png'), ('T140Angara__part_18.png', 'city_part_14.png'), ('T140Angara__part_24.png', 'city_part_15.png'), ('T140Angara__part_24.png', 'city_part_8.png'), ('T140Angara__part_24.png', 'city_part_14.png'), ('M5Sandstorm__part_1.png', 'city_part_15.png'), ('M5Sandstorm__part_1.png', 'city_part_8.png'), ('M5Sandstorm__part_1.png', 'city_part_14.png'), ('T140Angara__part_14.png', 'city_part_15.png'), ('T140Angara__part_14.png', 'city_part_8.png'), ('T140Angara__part_14.png', 'city_part_14.png'), ('M2A1Slammer2__part_20.png', 'city_part_15.png'), ('M2A1Slammer2__part_20.png', 'city_part_8.png'), ('M2A1Slammer2__part_20.png', 'city_part_14.png'), ('M5Sandstorm__part_12.png', 'city_part_15.png'), ('M5Sandstorm__part_12.png', 'city_part_8.png'), ('M5Sandstorm__part_12.png', 'city_part_14.png'), ('M2A1Slammer2__part_16.png', 'city_part_15.png'), ('M2A1Slammer2__part_16.png', 'city_part_8.png'), ('M2A1Slammer2__part_16.png', 'city_part_14.png'), ('M5Sandstorm__part_23.png', 'city_part_15.png'), ('M5Sandstorm__part_23.png', 'city_part_8.png'), ('M5Sandstorm__part_23.png', 'city_part_14.png'), ('Zamak__part_20.png', 'city_part_15.png'), ('Zamak__part_20.png', 'city_part_8.png'), ('Zamak__part_20.png', 'city_part_14.png')]\n"
     ]
    }
   ],
   "source": [
    "#----------------------\n",
    "from custom_dataset.segdataset import FewShotSegDataset\n",
    "\n",
    "\n",
    "image_processor = SegformerImageProcessor(reduce_labels=False,size={\"height\": 448, \"width\": 448})\n",
    "\n",
    "train_dataset = FewShotSegDataset(root_dir=root_dir, image_processor=image_processor)\n",
    "valid_dataset = FewShotSegDataset(root_dir=root_dir, image_processor=image_processor, train=False)\n",
    "\n",
    "#train_dataset = InstanceSegmentationDataset(root_dir=root_dir, image_processor=image_processor)\n",
    "#valid_dataset = InstanceSegmentationDataset(root_dir=root_dir, image_processor=image_processor, train=False)\n",
    "\n",
    "train_dataloader = DataLoader(train_dataset, batch_size=_BATCH_SIZE, shuffle=True)\n",
    "valid_dataloader = DataLoader(valid_dataset, batch_size=_BATCH_SIZE)"
   ]
  },
  {
   "cell_type": "code",
   "execution_count": 27,
   "metadata": {},
   "outputs": [
    {
     "name": "stderr",
     "output_type": "stream",
     "text": [
      "/home/eric/anaconda3/envs/trex/lib/python3.9/site-packages/huggingface_hub/file_download.py:797: FutureWarning: `resume_download` is deprecated and will be removed in version 1.0.0. Downloads always resume when possible. If you want to force a new download, use `force_download=True`.\n",
      "  warnings.warn(\n",
      "/home/eric/anaconda3/envs/trex/lib/python3.9/site-packages/torch/_utils.py:831: UserWarning: TypedStorage is deprecated. It will be removed in the future and UntypedStorage will be the only storage class. This should only matter to you if you are using storages directly.  To access UntypedStorage directly, use tensor.untyped_storage() instead of tensor.storage()\n",
      "  return self.fget.__get__(instance, owner)()\n",
      "Some weights of FewShotFormer were not initialized from the model checkpoint at nvidia/mit-b5 and are newly initialized: ['decode_head.batch_norm.bias', 'decode_head.batch_norm.num_batches_tracked', 'decode_head.batch_norm.running_mean', 'decode_head.batch_norm.running_var', 'decode_head.batch_norm.weight', 'decode_head.classifier.bias', 'decode_head.classifier.weight', 'decode_head.custom_classifier.bias', 'decode_head.custom_classifier.weight', 'decode_head.custom_mlp.proj.bias', 'decode_head.custom_mlp.proj.weight', 'decode_head.linear_c.0.proj.bias', 'decode_head.linear_c.0.proj.weight', 'decode_head.linear_c.1.proj.bias', 'decode_head.linear_c.1.proj.weight', 'decode_head.linear_c.2.proj.bias', 'decode_head.linear_c.2.proj.weight', 'decode_head.linear_c.3.proj.bias', 'decode_head.linear_c.3.proj.weight', 'decode_head.linear_fuse.weight', 'decode_head.linear_fuse_support.weight']\n",
      "You should probably TRAIN this model on a down-stream task to be able to use it for predictions and inference.\n"
     ]
    }
   ],
   "source": [
    "# define model\n",
    "from models.custom_segformer import FewShotFormer\n",
    "\n",
    "seg_model = FewShotFormer.from_pretrained(_MODEL_VERSION,\n",
    "                                        num_labels=2,\n",
    "                                        id2label=id2label,\n",
    "                                        label2id=label2id,\n",
    "                                        force_download=False                                       \n",
    "                                        )\n",
    "\n",
    "# model freeze\n",
    "\n",
    "# model freeze \n",
    "for param in seg_model.parameters():\n",
    "    param.requires_grad = False\n",
    "\n",
    "# decoder unfreeze \n",
    "for param in seg_model.decode_head.parameters():\n",
    "    param.requires_grad = True"
   ]
  },
  {
   "cell_type": "code",
   "execution_count": 28,
   "metadata": {},
   "outputs": [
    {
     "name": "stderr",
     "output_type": "stream",
     "text": [
      "Using cache found in /home/eric/.cache/torch/hub/facebookresearch_dinov2_main\n",
      "/home/eric/.cache/torch/hub/facebookresearch_dinov2_main/dinov2/layers/swiglu_ffn.py:51: UserWarning: xFormers is not available (SwiGLU)\n",
      "  warnings.warn(\"xFormers is not available (SwiGLU)\")\n",
      "/home/eric/.cache/torch/hub/facebookresearch_dinov2_main/dinov2/layers/attention.py:33: UserWarning: xFormers is not available (Attention)\n",
      "  warnings.warn(\"xFormers is not available (Attention)\")\n",
      "/home/eric/.cache/torch/hub/facebookresearch_dinov2_main/dinov2/layers/block.py:40: UserWarning: xFormers is not available (Block)\n",
      "  warnings.warn(\"xFormers is not available (Block)\")\n"
     ]
    }
   ],
   "source": [
    "BACKBONE_SIZE = \"large\" # in (\"small\", \"base\", \"large\" or \"giant\")\n",
    "\n",
    "backbone_archs = {\n",
    "    \"small\": \"vits14\",\n",
    "    \"base\": \"vitb14\",\n",
    "    \"large\": \"vitl14\",\n",
    "    \"giant\": \"vitg14\",\n",
    "}\n",
    "backbone_arch = backbone_archs[BACKBONE_SIZE]\n",
    "backbone_name = f\"dinov2_{backbone_arch}\"\n",
    "\n",
    "dinov2_model = torch.hub.load(repo_or_dir=\"facebookresearch/dinov2\", model=backbone_name)\n",
    "#backbone_model.to(_DEVICE)\n",
    "\n",
    "# model freeze \n",
    "for param in dinov2_model.parameters():\n",
    "    param.requires_grad = False"
   ]
  },
  {
   "cell_type": "code",
   "execution_count": 18,
   "metadata": {},
   "outputs": [
    {
     "data": {
      "text/plain": [
       "DinoVisionTransformer(\n",
       "  (patch_embed): PatchEmbed(\n",
       "    (proj): Conv2d(3, 1024, kernel_size=(14, 14), stride=(14, 14))\n",
       "    (norm): Identity()\n",
       "  )\n",
       "  (blocks): ModuleList(\n",
       "    (0-23): 24 x NestedTensorBlock(\n",
       "      (norm1): LayerNorm((1024,), eps=1e-06, elementwise_affine=True)\n",
       "      (attn): MemEffAttention(\n",
       "        (qkv): Linear(in_features=1024, out_features=3072, bias=True)\n",
       "        (attn_drop): Dropout(p=0.0, inplace=False)\n",
       "        (proj): Linear(in_features=1024, out_features=1024, bias=True)\n",
       "        (proj_drop): Dropout(p=0.0, inplace=False)\n",
       "      )\n",
       "      (ls1): LayerScale()\n",
       "      (drop_path1): Identity()\n",
       "      (norm2): LayerNorm((1024,), eps=1e-06, elementwise_affine=True)\n",
       "      (mlp): Mlp(\n",
       "        (fc1): Linear(in_features=1024, out_features=4096, bias=True)\n",
       "        (act): GELU(approximate='none')\n",
       "        (fc2): Linear(in_features=4096, out_features=1024, bias=True)\n",
       "        (drop): Dropout(p=0.0, inplace=False)\n",
       "      )\n",
       "      (ls2): LayerScale()\n",
       "      (drop_path2): Identity()\n",
       "    )\n",
       "  )\n",
       "  (norm): LayerNorm((1024,), eps=1e-06, elementwise_affine=True)\n",
       "  (head): Identity()\n",
       ")"
      ]
     },
     "execution_count": 18,
     "metadata": {},
     "output_type": "execute_result"
    }
   ],
   "source": [
    "dinov2_model"
   ]
  },
  {
   "cell_type": "code",
   "execution_count": 29,
   "metadata": {},
   "outputs": [],
   "source": [
    "# define metric\n",
    "metric = evaluate.load(\"mean_iou\")\n",
    "# define optimizer\n",
    "optimizer = torch.optim.AdamW(seg_model.parameters(), lr=0.00006)"
   ]
  },
  {
   "cell_type": "code",
   "execution_count": 31,
   "metadata": {},
   "outputs": [
    {
     "name": "stderr",
     "output_type": "stream",
     "text": [
      "2024-11-26 21:16:26 - FewShotSeg - INFO - Epoch: 0\n"
     ]
    },
    {
     "ename": "IndexError",
     "evalue": "list index out of range",
     "output_type": "error",
     "traceback": [
      "\u001b[0;31m---------------------------------------------------------------------------\u001b[0m",
      "\u001b[0;31mIndexError\u001b[0m                                Traceback (most recent call last)",
      "Input \u001b[0;32mIn [31]\u001b[0m, in \u001b[0;36m<cell line: 9>\u001b[0;34m()\u001b[0m\n\u001b[1;32m     10\u001b[0m logger\u001b[38;5;241m.\u001b[39minfo(\u001b[38;5;124mf\u001b[39m\u001b[38;5;124m\"\u001b[39m\u001b[38;5;124mEpoch: \u001b[39m\u001b[38;5;132;01m{\u001b[39;00mepoch\u001b[38;5;132;01m}\u001b[39;00m\u001b[38;5;124m\"\u001b[39m)\n\u001b[1;32m     12\u001b[0m \u001b[38;5;66;03m# Training loop\u001b[39;00m\n\u001b[0;32m---> 13\u001b[0m \u001b[38;5;28;01mfor\u001b[39;00m idx, batch \u001b[38;5;129;01min\u001b[39;00m \u001b[38;5;28menumerate\u001b[39m(train_dataloader):\n\u001b[1;32m     14\u001b[0m     \u001b[38;5;66;03m# get the inputs\u001b[39;00m\n\u001b[1;32m     15\u001b[0m     pixel_values \u001b[38;5;241m=\u001b[39m batch[\u001b[38;5;124m\"\u001b[39m\u001b[38;5;124mpixel_values\u001b[39m\u001b[38;5;124m\"\u001b[39m]\u001b[38;5;241m.\u001b[39mto(_DEVICE)\n\u001b[1;32m     16\u001b[0m     labels \u001b[38;5;241m=\u001b[39m batch[\u001b[38;5;124m\"\u001b[39m\u001b[38;5;124mlabels\u001b[39m\u001b[38;5;124m\"\u001b[39m]\u001b[38;5;241m.\u001b[39mto(_DEVICE)\n",
      "File \u001b[0;32m~/anaconda3/envs/trex/lib/python3.9/site-packages/torch/utils/data/dataloader.py:630\u001b[0m, in \u001b[0;36m_BaseDataLoaderIter.__next__\u001b[0;34m(self)\u001b[0m\n\u001b[1;32m    627\u001b[0m \u001b[38;5;28;01mif\u001b[39;00m \u001b[38;5;28mself\u001b[39m\u001b[38;5;241m.\u001b[39m_sampler_iter \u001b[38;5;129;01mis\u001b[39;00m \u001b[38;5;28;01mNone\u001b[39;00m:\n\u001b[1;32m    628\u001b[0m     \u001b[38;5;66;03m# TODO(https://github.com/pytorch/pytorch/issues/76750)\u001b[39;00m\n\u001b[1;32m    629\u001b[0m     \u001b[38;5;28mself\u001b[39m\u001b[38;5;241m.\u001b[39m_reset()  \u001b[38;5;66;03m# type: ignore[call-arg]\u001b[39;00m\n\u001b[0;32m--> 630\u001b[0m data \u001b[38;5;241m=\u001b[39m \u001b[38;5;28;43mself\u001b[39;49m\u001b[38;5;241;43m.\u001b[39;49m\u001b[43m_next_data\u001b[49m\u001b[43m(\u001b[49m\u001b[43m)\u001b[49m\n\u001b[1;32m    631\u001b[0m \u001b[38;5;28mself\u001b[39m\u001b[38;5;241m.\u001b[39m_num_yielded \u001b[38;5;241m+\u001b[39m\u001b[38;5;241m=\u001b[39m \u001b[38;5;241m1\u001b[39m\n\u001b[1;32m    632\u001b[0m \u001b[38;5;28;01mif\u001b[39;00m \u001b[38;5;28mself\u001b[39m\u001b[38;5;241m.\u001b[39m_dataset_kind \u001b[38;5;241m==\u001b[39m _DatasetKind\u001b[38;5;241m.\u001b[39mIterable \u001b[38;5;129;01mand\u001b[39;00m \\\n\u001b[1;32m    633\u001b[0m         \u001b[38;5;28mself\u001b[39m\u001b[38;5;241m.\u001b[39m_IterableDataset_len_called \u001b[38;5;129;01mis\u001b[39;00m \u001b[38;5;129;01mnot\u001b[39;00m \u001b[38;5;28;01mNone\u001b[39;00m \u001b[38;5;129;01mand\u001b[39;00m \\\n\u001b[1;32m    634\u001b[0m         \u001b[38;5;28mself\u001b[39m\u001b[38;5;241m.\u001b[39m_num_yielded \u001b[38;5;241m>\u001b[39m \u001b[38;5;28mself\u001b[39m\u001b[38;5;241m.\u001b[39m_IterableDataset_len_called:\n",
      "File \u001b[0;32m~/anaconda3/envs/trex/lib/python3.9/site-packages/torch/utils/data/dataloader.py:674\u001b[0m, in \u001b[0;36m_SingleProcessDataLoaderIter._next_data\u001b[0;34m(self)\u001b[0m\n\u001b[1;32m    672\u001b[0m \u001b[38;5;28;01mdef\u001b[39;00m \u001b[38;5;21m_next_data\u001b[39m(\u001b[38;5;28mself\u001b[39m):\n\u001b[1;32m    673\u001b[0m     index \u001b[38;5;241m=\u001b[39m \u001b[38;5;28mself\u001b[39m\u001b[38;5;241m.\u001b[39m_next_index()  \u001b[38;5;66;03m# may raise StopIteration\u001b[39;00m\n\u001b[0;32m--> 674\u001b[0m     data \u001b[38;5;241m=\u001b[39m \u001b[38;5;28;43mself\u001b[39;49m\u001b[38;5;241;43m.\u001b[39;49m\u001b[43m_dataset_fetcher\u001b[49m\u001b[38;5;241;43m.\u001b[39;49m\u001b[43mfetch\u001b[49m\u001b[43m(\u001b[49m\u001b[43mindex\u001b[49m\u001b[43m)\u001b[49m  \u001b[38;5;66;03m# may raise StopIteration\u001b[39;00m\n\u001b[1;32m    675\u001b[0m     \u001b[38;5;28;01mif\u001b[39;00m \u001b[38;5;28mself\u001b[39m\u001b[38;5;241m.\u001b[39m_pin_memory:\n\u001b[1;32m    676\u001b[0m         data \u001b[38;5;241m=\u001b[39m _utils\u001b[38;5;241m.\u001b[39mpin_memory\u001b[38;5;241m.\u001b[39mpin_memory(data, \u001b[38;5;28mself\u001b[39m\u001b[38;5;241m.\u001b[39m_pin_memory_device)\n",
      "File \u001b[0;32m~/anaconda3/envs/trex/lib/python3.9/site-packages/torch/utils/data/_utils/fetch.py:51\u001b[0m, in \u001b[0;36m_MapDatasetFetcher.fetch\u001b[0;34m(self, possibly_batched_index)\u001b[0m\n\u001b[1;32m     49\u001b[0m         data \u001b[38;5;241m=\u001b[39m \u001b[38;5;28mself\u001b[39m\u001b[38;5;241m.\u001b[39mdataset\u001b[38;5;241m.\u001b[39m__getitems__(possibly_batched_index)\n\u001b[1;32m     50\u001b[0m     \u001b[38;5;28;01melse\u001b[39;00m:\n\u001b[0;32m---> 51\u001b[0m         data \u001b[38;5;241m=\u001b[39m [\u001b[38;5;28mself\u001b[39m\u001b[38;5;241m.\u001b[39mdataset[idx] \u001b[38;5;28;01mfor\u001b[39;00m idx \u001b[38;5;129;01min\u001b[39;00m possibly_batched_index]\n\u001b[1;32m     52\u001b[0m \u001b[38;5;28;01melse\u001b[39;00m:\n\u001b[1;32m     53\u001b[0m     data \u001b[38;5;241m=\u001b[39m \u001b[38;5;28mself\u001b[39m\u001b[38;5;241m.\u001b[39mdataset[possibly_batched_index]\n",
      "File \u001b[0;32m~/anaconda3/envs/trex/lib/python3.9/site-packages/torch/utils/data/_utils/fetch.py:51\u001b[0m, in \u001b[0;36m<listcomp>\u001b[0;34m(.0)\u001b[0m\n\u001b[1;32m     49\u001b[0m         data \u001b[38;5;241m=\u001b[39m \u001b[38;5;28mself\u001b[39m\u001b[38;5;241m.\u001b[39mdataset\u001b[38;5;241m.\u001b[39m__getitems__(possibly_batched_index)\n\u001b[1;32m     50\u001b[0m     \u001b[38;5;28;01melse\u001b[39;00m:\n\u001b[0;32m---> 51\u001b[0m         data \u001b[38;5;241m=\u001b[39m [\u001b[38;5;28;43mself\u001b[39;49m\u001b[38;5;241;43m.\u001b[39;49m\u001b[43mdataset\u001b[49m\u001b[43m[\u001b[49m\u001b[43midx\u001b[49m\u001b[43m]\u001b[49m \u001b[38;5;28;01mfor\u001b[39;00m idx \u001b[38;5;129;01min\u001b[39;00m possibly_batched_index]\n\u001b[1;32m     52\u001b[0m \u001b[38;5;28;01melse\u001b[39;00m:\n\u001b[1;32m     53\u001b[0m     data \u001b[38;5;241m=\u001b[39m \u001b[38;5;28mself\u001b[39m\u001b[38;5;241m.\u001b[39mdataset[possibly_batched_index]\n",
      "File \u001b[0;32m~/srcs/FewShotSeg_Lab/FewShotVision_Lab/Segmentation_Pipes/custom_dataset/segdataset.py:181\u001b[0m, in \u001b[0;36mFewShotSegDataset.__getitem__\u001b[0;34m(self, idx)\u001b[0m\n\u001b[1;32m    179\u001b[0m \u001b[38;5;28;01mdef\u001b[39;00m \u001b[38;5;21m__getitem__\u001b[39m(\u001b[38;5;28mself\u001b[39m, idx):\n\u001b[0;32m--> 181\u001b[0m     support_name \u001b[38;5;241m=\u001b[39m \u001b[38;5;28;43mself\u001b[39;49m\u001b[38;5;241;43m.\u001b[39;49m\u001b[43mcombinations_names\u001b[49m\u001b[43m[\u001b[49m\u001b[43midx\u001b[49m\u001b[43m]\u001b[49m[\u001b[38;5;241m0\u001b[39m]\n\u001b[1;32m    182\u001b[0m     query_name   \u001b[38;5;241m=\u001b[39m \u001b[38;5;28mself\u001b[39m\u001b[38;5;241m.\u001b[39mcombinations_names[idx][\u001b[38;5;241m1\u001b[39m]\n\u001b[1;32m    184\u001b[0m     \u001b[38;5;66;03m#--- support\u001b[39;00m\n",
      "\u001b[0;31mIndexError\u001b[0m: list index out of range"
     ]
    }
   ],
   "source": [
    "best_val_iou = 0 \n",
    "\n",
    "\n",
    "#-- model to device\n",
    "seg_model = seg_model.to(_DEVICE)\n",
    "dinov2_model = dinov2_model.to(_DEVICE) \n",
    "\n",
    "#---\n",
    "for epoch in range(_EPOCHS):  # loop over the dataset multiple times\n",
    "    logger.info(f\"Epoch: {epoch}\")\n",
    "\n",
    "    # Training loop\n",
    "    for idx, batch in enumerate(train_dataloader):\n",
    "        # get the inputs\n",
    "        pixel_values = batch[\"pixel_values\"].to(_DEVICE)\n",
    "        labels = batch[\"labels\"].to(_DEVICE)\n",
    "\n",
    "        #-----\n",
    "        patch_token = dinov2_model.forward_features(pixel_values)\n",
    "        patch_token = patch_token[\"x_norm_patchtokens\"]\n",
    "        patch_token = patch_token.reshape([pixel_values.shape[0],-1,32,32])\n",
    "\n",
    "        # zero the parameter gradients\n",
    "        optimizer.zero_grad()\n",
    "        # forward + backward + optimize\n",
    "        outputs = seg_model(pixel_values=pixel_values, labels=labels,dino_features = patch_token)\n",
    "        loss, logits = outputs.loss, outputs.logits\n",
    "\n",
    "        loss.backward()\n",
    "        optimizer.step()\n",
    "\n",
    "        # Evaluate periodically\n",
    "        if idx % 100 == 0:\n",
    "            with torch.no_grad():\n",
    "                upsampled_logits = nn.functional.interpolate(\n",
    "                    logits, size=labels.shape[-2:], mode=\"bilinear\", align_corners=False\n",
    "                )\n",
    "                predicted = upsampled_logits.argmax(dim=1)\n",
    "\n",
    "                metrics = metric._compute(\n",
    "                    predictions=predicted.cpu(),\n",
    "                    references=labels.cpu(),\n",
    "                    num_labels=len(id2label),\n",
    "                    ignore_index=255,\n",
    "                    reduce_labels=False,  # we've already reduced the labels ourselves\n",
    "                )\n",
    "                logger.info(\n",
    "                    f\"Epoch: {epoch}, \"\n",
    "                    f\"Training Loss: {loss.item():.4f}, \"\n",
    "                    f\"Mean IoU: {metrics['mean_iou']:.4f}, \"\n",
    "                    f\"Mean Accuracy: {metrics['mean_accuracy']:.4f}\"\n",
    "                )\n",
    "        #--\n",
    "    # Validation loop\n",
    "    val_loss = 0\n",
    "    val_metrics = {\"mean_iou\": 0, \"mean_accuracy\": 0}\n",
    "    for batch in valid_dataloader:\n",
    "        pixel_values = batch[\"pixel_values\"].to(_DEVICE)\n",
    "        labels = batch[\"labels\"].to(_DEVICE)\n",
    "\n",
    "        with torch.no_grad():\n",
    "            #-----\n",
    "            patch_token = dinov2_model.forward_features(pixel_values)\n",
    "            patch_token = patch_token[\"x_norm_patchtokens\"]\n",
    "            patch_token = patch_token.reshape([pixel_values.shape[0],-1,32,32])\n",
    "\n",
    "            # zero the parameter gradients\n",
    "            optimizer.zero_grad()\n",
    "            # forward + backward + optimize\n",
    "            outputs = seg_model(pixel_values=pixel_values, labels=labels,dino_features = patch_token)\n",
    "            loss, logits = outputs.loss, outputs.logits\n",
    "                \n",
    "            #--------------            \n",
    "            val_loss += outputs.loss.item()\n",
    "\n",
    "            upsampled_logits = nn.functional.interpolate(\n",
    "                logits, size=labels.shape[-2:], mode=\"bilinear\", align_corners=False\n",
    "            )\n",
    "            predicted = upsampled_logits.argmax(dim=1)\n",
    "\n",
    "            batch_metrics = metric._compute(\n",
    "                predictions=predicted.cpu(),\n",
    "                references=labels.cpu(),\n",
    "                num_labels=len(id2label),\n",
    "                ignore_index=255,\n",
    "                reduce_labels=False,\n",
    "            )\n",
    "            val_metrics[\"mean_iou\"] += batch_metrics[\"mean_iou\"]\n",
    "            val_metrics[\"mean_accuracy\"] += batch_metrics[\"mean_accuracy\"]\n",
    "\n",
    "    # Average validation loss and metrics\n",
    "    val_loss /= len(valid_dataloader)\n",
    "    val_metrics[\"mean_iou\"] /= len(valid_dataloader)\n",
    "    val_metrics[\"mean_accuracy\"] /= len(valid_dataloader)\n",
    "\n",
    "    logger.info(\n",
    "        f\"Epoch : {epoch}, \"\n",
    "        f\"Validation Results - Loss: {val_loss:.4f}, \"\n",
    "        f\"Mean IoU: {val_metrics['mean_iou']:.4f}, \"\n",
    "        f\"Mean Accuracy: {val_metrics['mean_accuracy']:.4f}\"\n",
    "    )\n",
    "\n",
    "    # Save the model if the validation IoU improves\n",
    "    if val_metrics[\"mean_iou\"] > best_val_iou:\n",
    "        best_val_iou = val_metrics[\"mean_iou\"]\n",
    "        \n",
    "        if _MODEL_SAVE:\n",
    "            torch.save(\n",
    "                seg_model.state_dict(),\n",
    "                os.path.join(\n",
    "                    \"/disk3/eric/checkpoints/military_fewshot_seg\",\n",
    "                    f\"{_VERSION}_{_MODEL_VERSION_SAVE}_segformer_best_epoch_{epoch}_miou_{best_val_iou:.4f}.pt\",\n",
    "                ),\n",
    "            )\n",
    "        logger.info(\"Model saved!\")\n"
   ]
  },
  {
   "cell_type": "code",
   "execution_count": null,
   "metadata": {},
   "outputs": [],
   "source": [
    "import torch.nn.functional as F\n",
    "supp_feat = torch.rand([2, 768, 112, 112])\n",
    "mask = torch.rand([2, 768, 112, 112])\n",
    "\n",
    "\n",
    "avg_pool2d = F.avg_pool2d(mask, (supp_feat.size()[2], supp_feat.size()[3])) "
   ]
  },
  {
   "cell_type": "code",
   "execution_count": null,
   "metadata": {},
   "outputs": [],
   "source": [
    "feat_h, feat_w = supp_feat.shape[-2:][0], supp_feat.shape[-2:][1]"
   ]
  },
  {
   "cell_type": "code",
   "execution_count": null,
   "metadata": {},
   "outputs": [
    {
     "data": {
      "text/plain": [
       "112"
      ]
     },
     "execution_count": 46,
     "metadata": {},
     "output_type": "execute_result"
    }
   ],
   "source": [
    "feat_h"
   ]
  },
  {
   "cell_type": "code",
   "execution_count": null,
   "metadata": {},
   "outputs": [],
   "source": [
    "\n"
   ]
  },
  {
   "cell_type": "code",
   "execution_count": null,
   "metadata": {},
   "outputs": [],
   "source": [
    "area = avg_pool2d * feat_h * feat_w"
   ]
  },
  {
   "cell_type": "code",
   "execution_count": null,
   "metadata": {},
   "outputs": [
    {
     "data": {
      "text/plain": [
       "torch.Size([2, 768, 1, 1])"
      ]
     },
     "execution_count": 48,
     "metadata": {},
     "output_type": "execute_result"
    }
   ],
   "source": [
    "area.shape"
   ]
  },
  {
   "cell_type": "code",
   "execution_count": null,
   "metadata": {},
   "outputs": [
    {
     "data": {
      "text/plain": [
       "torch.Size([2, 768, 1, 1])"
      ]
     },
     "execution_count": 51,
     "metadata": {},
     "output_type": "execute_result"
    }
   ],
   "source": [
    "area.shape"
   ]
  },
  {
   "cell_type": "code",
   "execution_count": null,
   "metadata": {},
   "outputs": [
    {
     "data": {
      "text/plain": [
       "torch.Size([112, 112])"
      ]
     },
     "execution_count": 53,
     "metadata": {},
     "output_type": "execute_result"
    }
   ],
   "source": [
    "supp_feat.shape[-2:]"
   ]
  }
 ],
 "metadata": {
  "kernelspec": {
   "display_name": "trex",
   "language": "python",
   "name": "python3"
  },
  "language_info": {
   "codemirror_mode": {
    "name": "ipython",
    "version": 3
   },
   "file_extension": ".py",
   "mimetype": "text/x-python",
   "name": "python",
   "nbconvert_exporter": "python",
   "pygments_lexer": "ipython3",
   "version": "3.9.12"
  }
 },
 "nbformat": 4,
 "nbformat_minor": 2
}
