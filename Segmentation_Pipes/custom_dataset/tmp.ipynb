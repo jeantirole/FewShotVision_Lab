{
 "cells": [
  {
   "cell_type": "code",
   "execution_count": null,
   "metadata": {},
   "outputs": [],
   "source": [
    "self.root_dir = root_dir\n",
    "self.image_processor = image_processor\n",
    "self.train = train\n",
    "\n",
    "sub_path = \"train\" if self.train else \"valid\"\n",
    "\n",
    "self.img_dir = os.path.join(self.root_dir, sub_path, \"images\")\n",
    "self.ann_dir = os.path.join(self.root_dir, sub_path, \"labels\")\n",
    "\n",
    "# read images\n",
    "image_file_names = []\n",
    "for root, dirs, files in os.walk(self.img_dir):\n",
    "image_file_names.extend(files)\n",
    "self.images = sorted(image_file_names)\n",
    "\n",
    "# read annotations\n",
    "annotation_file_names = []\n",
    "for root, dirs, files in os.walk(self.ann_dir):\n",
    "annotation_file_names.extend(files)\n",
    "self.annotations = sorted(annotation_file_names)"
   ]
  },
  {
   "cell_type": "code",
   "execution_count": 2,
   "metadata": {},
   "outputs": [],
   "source": [
    "import os\n",
    "root_dir = '/disk3/eric/dataset/VISION_SOFS/WEAPON_5/segmentation_pipe'\n",
    "sub_path = \"train\" #valid\n",
    "img_dir = os.path.join(root_dir, sub_path, \"images\")\n",
    "ann_dir = os.path.join(root_dir, sub_path, \"labels\")"
   ]
  },
  {
   "cell_type": "code",
   "execution_count": 7,
   "metadata": {},
   "outputs": [
    {
     "data": {
      "text/plain": [
       "'/disk3/eric/dataset/VISION_SOFS/WEAPON_5/segmentation_pipe/train/images'"
      ]
     },
     "execution_count": 7,
     "metadata": {},
     "output_type": "execute_result"
    }
   ],
   "source": [
    "img_dir"
   ]
  },
  {
   "cell_type": "code",
   "execution_count": 6,
   "metadata": {},
   "outputs": [
    {
     "data": {
      "text/plain": [
       "'/disk3/eric/dataset/VISION_SOFS/WEAPON_5/segmentation_pipe/train/labels'"
      ]
     },
     "execution_count": 6,
     "metadata": {},
     "output_type": "execute_result"
    }
   ],
   "source": [
    "ann_dir"
   ]
  },
  {
   "cell_type": "code",
   "execution_count": null,
   "metadata": {},
   "outputs": [],
   "source": [
    "# support images\n",
    "# class a \n",
    "# query image \n",
    "# class b\n",
    "# => \n",
    " "
   ]
  }
 ],
 "metadata": {
  "kernelspec": {
   "display_name": "trex",
   "language": "python",
   "name": "python3"
  },
  "language_info": {
   "codemirror_mode": {
    "name": "ipython",
    "version": 3
   },
   "file_extension": ".py",
   "mimetype": "text/x-python",
   "name": "python",
   "nbconvert_exporter": "python",
   "pygments_lexer": "ipython3",
   "version": "3.9.12"
  }
 },
 "nbformat": 4,
 "nbformat_minor": 2
}
