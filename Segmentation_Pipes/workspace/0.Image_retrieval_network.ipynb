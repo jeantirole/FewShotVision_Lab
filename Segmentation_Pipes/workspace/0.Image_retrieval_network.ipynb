{
 "cells": [
  {
   "cell_type": "code",
   "execution_count": 1,
   "metadata": {},
   "outputs": [],
   "source": [
    "import os\n",
    "from PIL import Image\n",
    "import numpy as np\n",
    "\n",
    "import torch\n",
    "import torch.nn as nn\n",
    "import torchvision\n",
    "from torchvision import transforms\n",
    "\n",
    "import matplotlib.pyplot as plt "
   ]
  },
  {
   "cell_type": "code",
   "execution_count": 2,
   "metadata": {},
   "outputs": [
    {
     "name": "stdout",
     "output_type": "stream",
     "text": [
      "filename /disk3/eric/dataset/VISION_SOFS/WEAPON_4/query/query_2.png\n"
     ]
    },
    {
     "data": {
      "text/plain": [
       "<Figure size 1200x1200 with 0 Axes>"
      ]
     },
     "metadata": {},
     "output_type": "display_data"
    }
   ],
   "source": [
    "query_img_path = \"/disk3/eric/dataset/VISION_SOFS/WEAPON_4/query/query_2.png\"\n",
    "query_img = Image.open(query_img_path)\n",
    "plt.figure(figsize=(12,12))\n",
    "#plt.imshow(query_img)\n",
    "plt.show()"
   ]
  },
  {
   "cell_type": "code",
   "execution_count": 3,
   "metadata": {},
   "outputs": [
    {
     "data": {
      "image/jpeg": "[encoded data removed]",
      "image/png": "[encoded data removed]",
      "text/plain": [
       "<PIL.PngImagePlugin.PngImageFile image mode=RGB size=61x45>"
      ]
     },
     "execution_count": 3,
     "metadata": {},
     "output_type": "execute_result"
    }
   ],
   "source": [
    "query_img"
   ]
  },
  {
   "cell_type": "code",
   "execution_count": 4,
   "metadata": {},
   "outputs": [],
   "source": [
    "# import random\n",
    "\n",
    "# query_img = Image.open(query_img_path)\n",
    "\n",
    "# # 랜덤 각도 4개 선택 (-180 ~ 180 범위)\n",
    "# angles = [random.randint(-180, 180) for _ in range(4)]\n",
    "\n",
    "# # 각도별로 이미지를 회전하고 저장\n",
    "# for i, angle in enumerate(angles):\n",
    "#     rotated_img = query_img.rotate(angle, expand=True)  # 이미지 회전\n",
    "#     rotated_img.save(f\"/disk3/eric/dataset/VISION_SOFS/WEAPON_4/trex_result_crop/rotated_{angle}_query_{i+1}.png\")  # 결과 저장"
   ]
  },
  {
   "cell_type": "code",
   "execution_count": 174,
   "metadata": {},
   "outputs": [
    {
     "name": "stdout",
     "output_type": "stream",
     "text": [
      "filename /disk3/eric/dataset/VISION_SOFS/WEAPON_4/trex_result_crop/cropped_box_7.png\n",
      "(57, 25)\n",
      "filename /disk3/eric/dataset/VISION_SOFS/WEAPON_4/trex_result_crop/cropped_box_8.png\n",
      "(97, 74)\n",
      "filename /disk3/eric/dataset/VISION_SOFS/WEAPON_4/trex_result_crop/cropped_box_1.png\n",
      "(54, 33)\n",
      "filename /disk3/eric/dataset/VISION_SOFS/WEAPON_4/trex_result_crop/query_2.png\n",
      "(61, 45)\n",
      "filename /disk3/eric/dataset/VISION_SOFS/WEAPON_4/trex_result_crop/cropped_box_11.png\n",
      "(115, 74)\n",
      "filename /disk3/eric/dataset/VISION_SOFS/WEAPON_4/trex_result_crop/cropped_box_10.png\n",
      "(131, 45)\n",
      "filename /disk3/eric/dataset/VISION_SOFS/WEAPON_4/trex_result_crop/cropped_box_12.png\n",
      "(77, 73)\n",
      "filename /disk3/eric/dataset/VISION_SOFS/WEAPON_4/trex_result_crop/cropped_box_13.png\n",
      "(73, 96)\n",
      "filename /disk3/eric/dataset/VISION_SOFS/WEAPON_4/trex_result_crop/cropped_box_14.png\n",
      "(122, 122)\n",
      "filename /disk3/eric/dataset/VISION_SOFS/WEAPON_4/trex_result_crop/cropped_box_6.png\n",
      "(103, 81)\n",
      "filename /disk3/eric/dataset/VISION_SOFS/WEAPON_4/trex_result_crop/cropped_box_3.png\n",
      "(38, 17)\n",
      "filename /disk3/eric/dataset/VISION_SOFS/WEAPON_4/trex_result_crop/cropped_box_15.png\n",
      "(143, 73)\n",
      "filename /disk3/eric/dataset/VISION_SOFS/WEAPON_4/trex_result_crop/cropped_box_0.png\n",
      "(55, 33)\n",
      "filename /disk3/eric/dataset/VISION_SOFS/WEAPON_4/trex_result_crop/cropped_box_9.png\n",
      "(58, 24)\n",
      "filename /disk3/eric/dataset/VISION_SOFS/WEAPON_4/trex_result_crop/cropped_box_5.png\n",
      "(37, 108)\n",
      "filename /disk3/eric/dataset/VISION_SOFS/WEAPON_4/trex_result_crop/cropped_box_4.png\n",
      "(137, 105)\n",
      "filename /disk3/eric/dataset/VISION_SOFS/WEAPON_4/trex_result_crop/cropped_box_2.png\n",
      "(38, 18)\n"
     ]
    }
   ],
   "source": [
    "images = os.listdir(\"/disk3/eric/dataset/VISION_SOFS/WEAPON_4/trex_result_crop\")\n",
    "\n",
    "os.environ[\"TORCH_HOME\"] = \"/disk3/eric/weight\"\n",
    "model = torchvision.models.resnet18(pretrained=True) #DEFAULT\n",
    "\n",
    "all_names = []\n",
    "all_vecs = None\n",
    "model.eval()\n",
    "root = \"/disk3/eric/dataset/VISION_SOFS/WEAPON_4/trex_result_crop/\"\n",
    "\n",
    "transform = transforms.Compose([\n",
    "    transforms.Resize((256 , 256)) ,\n",
    "    transforms.ToTensor() ,\n",
    "    transforms.Normalize(mean = [0.485 , 0.456 , 0.406] , std = [0.229 , 0.224 , 0.225])\n",
    "])\n",
    "\n",
    "activation = {}\n",
    "def get_activation(name):\n",
    "    def hook(model , input , output):\n",
    "        activation[name] = output.detach()\n",
    "    return hook\n",
    "\n",
    "model.avgpool.register_forward_hook(get_activation(\"avgpool\"))\n",
    "\n",
    "with torch.no_grad():\n",
    "    for i , file in enumerate(images):\n",
    "            img = Image.open(os.path.join(root + file))\n",
    "            print(img.size)\n",
    "            img = transform(img)\n",
    "            out = model(img[None , ...])\n",
    "            vec = activation[\"avgpool\"].numpy().squeeze()[None , ...]\n",
    "            if all_vecs is None:\n",
    "                all_vecs = vec\n",
    "            else:\n",
    "                all_vecs = np.vstack([all_vecs , vec])\n",
    "            all_names.append(file)\n",
    "    if i % 100 == 0 and i != 0:\n",
    "        print(i , \"done\")\n",
    "\n",
    "#------------------------------\n",
    "# result save\n",
    "\n",
    "np.save(\"/disk3/eric/dataset/VISION_SOFS/WEAPON_4/trex_result_z_cos/all_vecs.npy\" , all_vecs,allow_pickle=True)\n",
    "np.save(\"/disk3/eric/dataset/VISION_SOFS/WEAPON_4/trex_result_z_cos/all_names.npy\" , all_names,allow_pickle=True)"
   ]
  },
  {
   "cell_type": "code",
   "execution_count": 175,
   "metadata": {},
   "outputs": [
    {
     "data": {
      "text/plain": [
       "['cropped_box_7.png',\n",
       " 'cropped_box_8.png',\n",
       " 'cropped_box_1.png',\n",
       " 'query_2.png',\n",
       " 'cropped_box_11.png',\n",
       " 'cropped_box_10.png',\n",
       " 'cropped_box_12.png',\n",
       " 'cropped_box_13.png',\n",
       " 'cropped_box_14.png',\n",
       " 'cropped_box_6.png',\n",
       " 'cropped_box_3.png',\n",
       " 'cropped_box_15.png',\n",
       " 'cropped_box_0.png',\n",
       " 'cropped_box_9.png',\n",
       " 'cropped_box_5.png',\n",
       " 'cropped_box_4.png',\n",
       " 'cropped_box_2.png']"
      ]
     },
     "execution_count": 175,
     "metadata": {},
     "output_type": "execute_result"
    }
   ],
   "source": [
    "all_names"
   ]
  },
  {
   "cell_type": "code",
   "execution_count": 176,
   "metadata": {},
   "outputs": [
    {
     "name": "stderr",
     "output_type": "stream",
     "text": [
      "2024-11-21 23:01:14.551 No runtime found, using MemoryCacheStorageManager\n"
     ]
    }
   ],
   "source": [
    "import streamlit as st\n",
    "import numpy as np\n",
    "from PIL import Image\n",
    "import time\n",
    "from scipy.spatial.distance import cdist\n",
    "\n",
    "@st.cache_data\n",
    "def read_data():\n",
    "    all_vecs = np.load(\"/disk3/eric/dataset/VISION_SOFS/WEAPON_4/trex_result_z_cos/all_vecs.npy\",allow_pickle=True)\n",
    "    all_names = np.load(\"/disk3/eric/dataset/VISION_SOFS/WEAPON_4/trex_result_z_cos/all_names.npy\",allow_pickle=True)\n",
    "    return all_vecs , all_names\n",
    "\n",
    "#---\n",
    "\n",
    "vecs = np.load(\"/disk3/eric/dataset/VISION_SOFS/WEAPON_4/trex_result_z_cos/all_vecs.npy\",allow_pickle=True)\n",
    "names = np.load(\"/disk3/eric/dataset/VISION_SOFS/WEAPON_4/trex_result_z_cos/all_names.npy\",allow_pickle=True)\n",
    "#vecs , names = read_data()"
   ]
  },
  {
   "cell_type": "code",
   "execution_count": 177,
   "metadata": {},
   "outputs": [
    {
     "data": {
      "text/plain": [
       "array([[1.4684787 , 0.7785305 , 0.4211664 , ..., 2.0481308 , 0.7465032 ,\n",
       "        0.01407981],\n",
       "       [0.7560633 , 0.3967995 , 1.1006777 , ..., 1.0411644 , 0.13293889,\n",
       "        1.0260795 ],\n",
       "       [0.01670723, 0.61061347, 0.38415122, ..., 0.41705656, 0.25745428,\n",
       "        0.05338608],\n",
       "       ...,\n",
       "       [1.7955385 , 0.9326167 , 1.1859128 , ..., 0.5888601 , 0.19890885,\n",
       "        0.41200918],\n",
       "       [0.43935645, 0.4067473 , 2.328033  , ..., 1.6001801 , 0.07332297,\n",
       "        0.0422553 ],\n",
       "       [1.0097406 , 0.02962197, 0.7348108 , ..., 1.028672  , 0.8582106 ,\n",
       "        0.12438963]], dtype=float32)"
      ]
     },
     "execution_count": 177,
     "metadata": {},
     "output_type": "execute_result"
    }
   ],
   "source": [
    "vecs"
   ]
  },
  {
   "cell_type": "code",
   "execution_count": 178,
   "metadata": {},
   "outputs": [
    {
     "data": {
      "text/plain": [
       "array(['cropped_box_7.png', 'cropped_box_8.png', 'cropped_box_1.png',\n",
       "       'query_2.png', 'cropped_box_11.png', 'cropped_box_10.png',\n",
       "       'cropped_box_12.png', 'cropped_box_13.png', 'cropped_box_14.png',\n",
       "       'cropped_box_6.png', 'cropped_box_3.png', 'cropped_box_15.png',\n",
       "       'cropped_box_0.png', 'cropped_box_9.png', 'cropped_box_5.png',\n",
       "       'cropped_box_4.png', 'cropped_box_2.png'], dtype='<U18')"
      ]
     },
     "execution_count": 178,
     "metadata": {},
     "output_type": "execute_result"
    }
   ],
   "source": [
    "names"
   ]
  },
  {
   "cell_type": "code",
   "execution_count": 179,
   "metadata": {},
   "outputs": [
    {
     "name": "stdout",
     "output_type": "stream",
     "text": [
      "target idx :  10\n",
      "target name :  cropped_box_3.png\n",
      "filename /disk3/eric/dataset/VISION_SOFS/WEAPON_4/trex_result_crop/cropped_box_2.png\n",
      "filename /disk3/eric/dataset/VISION_SOFS/WEAPON_4/trex_result_crop/cropped_box_1.png\n",
      "filename /disk3/eric/dataset/VISION_SOFS/WEAPON_4/trex_result_crop/cropped_box_9.png\n",
      "filename /disk3/eric/dataset/VISION_SOFS/WEAPON_4/trex_result_crop/cropped_box_7.png\n",
      "filename /disk3/eric/dataset/VISION_SOFS/WEAPON_4/trex_result_crop/cropped_box_0.png\n",
      "filename /disk3/eric/dataset/VISION_SOFS/WEAPON_4/trex_result_crop/query_2.png\n",
      "filename /disk3/eric/dataset/VISION_SOFS/WEAPON_4/trex_result_crop/cropped_box_10.png\n",
      "filename /disk3/eric/dataset/VISION_SOFS/WEAPON_4/trex_result_crop/cropped_box_13.png\n",
      "filename /disk3/eric/dataset/VISION_SOFS/WEAPON_4/trex_result_crop/cropped_box_6.png\n"
     ]
    }
   ],
   "source": [
    "\n",
    "\n",
    "#_ , fcol2 , _ = st.columns(3)\n",
    "\n",
    "#scol1 , scol2 = st.columns(2)\n",
    "\n",
    "#ch = scol1.button(\"Start / change\")\n",
    "#fs = scol2.button(\"find similar\")\n",
    "\n",
    "idx = 10\n",
    "print(\"target idx : \", idx)\n",
    "print(\"target name : \", names[idx])\n",
    "\n",
    "#random_name = names[np.random.randint(len(names))]\n",
    "#fcol2.image(Image.open( root +  random_name))\n",
    "#st.session_state[\"disp_img\"] = random_name\n",
    "#st.write(st.session_state[\"disp_img\"])\n",
    "\n",
    "#c1 , c2 , c3 , c4 , c5 = st.columns(5)\n",
    "#idx = int(np.argwhere(names == st.session_state[\"disp_img\"]))\n",
    "target_vec = vecs[idx]\n",
    "#fcol2.image(Image.open(\"./images/\" + st.session_state[\"disp_img\"]))\n",
    "\n",
    "top5 = cdist(target_vec[None , ...] , vecs).squeeze().argsort()[1:10]\n",
    "\n",
    "\n",
    "top_imgs =[]\n",
    "for i in range(9):\n",
    "    img_ = Image.open(os.path.join(root, names[top5[i]]))\n",
    "    top_imgs.append(img_)"
   ]
  },
  {
   "cell_type": "code",
   "execution_count": 180,
   "metadata": {},
   "outputs": [],
   "source": [
    "#--- 일단 실험은 성공적이니. rotation variant 만 되면 성공 !\n",
    "#--- 심지어 rotate 도 된다.\n",
    "#--- rotation invariant 하게, 아키텍처 살짝 구축해주면 논문끝. "
   ]
  },
  {
   "cell_type": "code",
   "execution_count": null,
   "metadata": {},
   "outputs": [],
   "source": []
  }
 ],
 "metadata": {
  "kernelspec": {
   "display_name": "trex",
   "language": "python",
   "name": "python3"
  },
  "language_info": {
   "codemirror_mode": {
    "name": "ipython",
    "version": 3
   },
   "file_extension": ".py",
   "mimetype": "text/x-python",
   "name": "python",
   "nbconvert_exporter": "python",
   "pygments_lexer": "ipython3",
   "version": "3.9.12"
  }
 },
 "nbformat": 4,
 "nbformat_minor": 2
}
