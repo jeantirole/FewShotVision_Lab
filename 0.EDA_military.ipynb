{
 "cells": [
  {
   "cell_type": "code",
   "execution_count": 1,
   "metadata": {},
   "outputs": [],
   "source": [
    "img_path = \"/home/eric/data/Military/20241107212846_1.jpg\""
   ]
  },
  {
   "cell_type": "code",
   "execution_count": 2,
   "metadata": {},
   "outputs": [],
   "source": [
    "from PIL import Image"
   ]
  },
  {
   "cell_type": "code",
   "execution_count": 3,
   "metadata": {},
   "outputs": [
    {
     "name": "stdout",
     "output_type": "stream",
     "text": [
      "filename /home/eric/data/Military/20241107212846_1.jpg\n"
     ]
    }
   ],
   "source": [
    "img = Image.open(img_path)"
   ]
  },
  {
   "cell_type": "code",
   "execution_count": 5,
   "metadata": {},
   "outputs": [
    {
     "data": {
      "text/plain": [
       "(3840, 2160)"
      ]
     },
     "execution_count": 5,
     "metadata": {},
     "output_type": "execute_result"
    }
   ],
   "source": [
    "img.size"
   ]
  },
  {
   "cell_type": "code",
   "execution_count": null,
   "metadata": {},
   "outputs": [],
   "source": [
    "#-----------------------------------------\n",
    "# 4분할 ! \n",
    "#-----------------------------------------\n",
    "\n",
    "# Get the size of the image\n",
    "width, height = img.size\n",
    "\n",
    "# Calculate the dimensions of each patch\n",
    "patch_width = width // 2\n",
    "patch_height = height // 2\n",
    "\n",
    "# Create patches by cropping\n",
    "top_left = img.crop((0, 0, patch_width, patch_height))\n",
    "top_right = img.crop((patch_width, 0, width, patch_height))\n",
    "bottom_left = img.crop((0, patch_height, patch_width, height))\n",
    "bottom_right = img.crop((patch_width, patch_height, width, height))\n",
    "\n",
    "# Optionally, save each patch\n",
    "top_left.save('/home/eric/data/Military/top_left.png')\n",
    "top_right.save('/home/eric/data/Military/top_right.png')\n",
    "bottom_left.save('/home/eric/data/Military/bottom_left.png')\n",
    "bottom_right.save('/home/eric/data/Military/bottom_right.png')\n"
   ]
  },
  {
   "cell_type": "code",
   "execution_count": null,
   "metadata": {},
   "outputs": [],
   "source": []
  },
  {
   "cell_type": "code",
   "execution_count": null,
   "metadata": {},
   "outputs": [],
   "source": []
  },
  {
   "cell_type": "code",
   "execution_count": null,
   "metadata": {},
   "outputs": [],
   "source": []
  }
 ],
 "metadata": {
  "kernelspec": {
   "display_name": "fewshotseg3",
   "language": "python",
   "name": "python3"
  },
  "language_info": {
   "codemirror_mode": {
    "name": "ipython",
    "version": 3
   },
   "file_extension": ".py",
   "mimetype": "text/x-python",
   "name": "python",
   "nbconvert_exporter": "python",
   "pygments_lexer": "ipython3",
   "version": "3.9.12"
  }
 },
 "nbformat": 4,
 "nbformat_minor": 2
}
